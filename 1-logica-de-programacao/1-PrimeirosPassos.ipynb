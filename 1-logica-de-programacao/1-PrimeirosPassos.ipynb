{
 "cells": [
  {
   "cell_type": "code",
   "execution_count": 14,
   "metadata": {},
   "outputs": [
    {
     "name": "stdout",
     "output_type": "stream",
     "text": [
      "Script executado com sucesso\n"
     ]
    }
   ],
   "source": [
    "# Este sinal serve pra comemtar um código para que o usuário saiba o que esse código faz\n",
    "\n",
    "\"\"\"\n",
    "Usando 3 aspas podemos\n",
    "comentar varias linhas\n",
    "assim quando o código for executado o script\n",
    "pula essas linhas\n",
    "\"\"\"\n",
    "\n",
    "print(\"Script executado com sucesso\")"
   ]
  },
  {
   "cell_type": "code",
   "execution_count": 29,
   "metadata": {},
   "outputs": [
    {
     "name": "stdout",
     "output_type": "stream",
     "text": [
      "Inteiro:  42\n",
      "Flutuante:  42.12\n",
      "Complexo:  (3+4j)\n",
      "Texto:  Olá mundo\n",
      "Listas:  [1, 2, 3]\n",
      "Tupla:  (1, 2, 3, 4, 5)\n",
      "Conjunto:  {1, 2, 3}\n",
      "Dicionario:  {'chave': 'valor'}\n",
      "Boolenaos:  True\n",
      "NoneType None:  None\n"
     ]
    }
   ],
   "source": [
    "inteiro = 42\n",
    "print(\"Inteiro: \", inteiro)\n",
    "\n",
    "flutuante = 42.12\n",
    "print(\"Flutuante: \", flutuante)\n",
    "\n",
    "complexo = 3 + 4j\n",
    "print(\"Complexo: \", complexo)\n",
    "\n",
    "texto = \"Olá mundo\"\n",
    "print(\"Texto: \", texto)\n",
    "\n",
    "listas = [1,2,3] # ordenada e mutavel\n",
    "print(\"Listas: \", listas)\n",
    "\n",
    "tuplas = (1,2,3,4,5) #ordenada imutavel\n",
    "print(\"Tupla: \", tuplas)\n",
    "\n",
    "conjunto = {1,2,3,3} # nao ordenada de itens unicos, não se repetem\n",
    "print(\"Conjunto: \", conjunto)\n",
    "\n",
    "dicionario = {\"chave\" : \"valor\"} # nao ordenada chave e valor\n",
    "print(\"Dicionario: \", dicionario)\n",
    "\n",
    "booleano = True\n",
    "print(\"Boolenaos: \", booleano)\n",
    "\n",
    "nenhum = None # ausência de valor\n",
    "print(\"NoneType None: \", nenhum)\n",
    "\n"
   ]
  },
  {
   "cell_type": "code",
   "execution_count": 31,
   "metadata": {},
   "outputs": [
    {
     "name": "stdout",
     "output_type": "stream",
     "text": [
      "Nome:  Nicole  idade:  30  anos\n"
     ]
    }
   ],
   "source": [
    "# Variavel\n",
    "idade = 30\n",
    "nome = \"Nicole\"\n",
    "\n",
    "print(\"Nome: \", nome, \" idade: \", idade, \" anos\")"
   ]
  },
  {
   "cell_type": "code",
   "execution_count": 35,
   "metadata": {},
   "outputs": [
    {
     "name": "stdout",
     "output_type": "stream",
     "text": [
      "<class 'str'>\n",
      "<class 'int'>\n",
      "<class 'str'>\n"
     ]
    }
   ],
   "source": [
    "# Obter o tipo de variavel\n",
    "nome = \"Ana Paula\"\n",
    "idade = 31\n",
    "idade2 = str(31) #cast\n",
    "print(type(nome))\n",
    "print(type(idade))\n",
    "print(type(idade2))"
   ]
  },
  {
   "cell_type": "code",
   "execution_count": 39,
   "metadata": {},
   "outputs": [
    {
     "name": "stdout",
     "output_type": "stream",
     "text": [
      "30\n",
      "Ana\n"
     ]
    }
   ],
   "source": [
    "i =  30\n",
    "I = \"Ana\"\n",
    "print(i)\n",
    "print(I)"
   ]
  },
  {
   "cell_type": "code",
   "execution_count": 2,
   "metadata": {},
   "outputs": [
    {
     "name": "stdout",
     "output_type": "stream",
     "text": [
      "Texto 1\n",
      "Texto 2\n",
      "Texto 3\n",
      "Texto 4\n"
     ]
    }
   ],
   "source": [
    "var1, var2, var3, var4 = \"Texto 1\",\"Texto 2\",\"Texto 3\",\"Texto 4\"\n",
    "\n",
    "print(var1)\n",
    "print(var2)\n",
    "print(var3)\n",
    "print(var4)"
   ]
  },
  {
   "cell_type": "code",
   "execution_count": 5,
   "metadata": {},
   "outputs": [
    {
     "name": "stdout",
     "output_type": "stream",
     "text": [
      "Ana Paula\n",
      "Ana Paula\n",
      "Ana Paula\n",
      "Ana Paula\n"
     ]
    }
   ],
   "source": [
    "var1 = var2 = var3 = var4 = \"Ana Paula\"\n",
    "\n",
    "print(var1)\n",
    "print(var2)\n",
    "print(var3)\n",
    "print(var4)"
   ]
  },
  {
   "cell_type": "code",
   "execution_count": 8,
   "metadata": {},
   "outputs": [
    {
     "name": "stdout",
     "output_type": "stream",
     "text": [
      "Texto 1\n",
      "Texto 2\n",
      "Texto 3\n",
      "Texto 4\n"
     ]
    }
   ],
   "source": [
    "exemplo = \"Texto 1\",\"Texto 2\",\"Texto 3\",\"Texto 4\"\n",
    "var1,var2,var3,var4 = exemplo\n",
    "print(var1)\n",
    "print(var2)\n",
    "print(var3)\n",
    "print(var4)"
   ]
  },
  {
   "cell_type": "code",
   "execution_count": 15,
   "metadata": {},
   "outputs": [
    {
     "name": "stdout",
     "output_type": "stream",
     "text": [
      "O nome dela é Ana paula\n"
     ]
    }
   ],
   "source": [
    "nome = \"Ana paula\"\n",
    "\n",
    "# print(\"O nome dela é \"+ 10) com o simbolo + não aceita numero\n",
    "print(\"O nome dela é \"+ nome)"
   ]
  },
  {
   "cell_type": "code",
   "execution_count": 18,
   "metadata": {},
   "outputs": [
    {
     "name": "stdout",
     "output_type": "stream",
     "text": [
      "DezCinco\n"
     ]
    }
   ],
   "source": [
    "numero1 = \"Dez\"\n",
    "numero2 = \"Cinco\"\n",
    "\n",
    "print(numero1 + numero2)"
   ]
  },
  {
   "cell_type": "code",
   "execution_count": 22,
   "metadata": {},
   "outputs": [
    {
     "name": "stdout",
     "output_type": "stream",
     "text": [
      "Nome Completo Thuanne Alves\n"
     ]
    }
   ],
   "source": [
    "nome = \"Thuanne\"\n",
    "sobrenome = \"Alves\"\n",
    "\n",
    "print(\"Nome Completo \"+ nome + \" \" + sobrenome)"
   ]
  },
  {
   "cell_type": "code",
   "execution_count": 24,
   "metadata": {},
   "outputs": [
    {
     "name": "stdout",
     "output_type": "stream",
     "text": [
      "Soma:  125.5\n"
     ]
    }
   ],
   "source": [
    "# Exercícios de variáveis em python\n",
    "\n",
    "# 1- declare uma variavel chamada idade e atribua o valor 25 a ela\n",
    "\n",
    "idade = 25\n",
    "\n",
    "# 2 - declare uma variavel chamada nome e atribua o valor João a ela\n",
    "\n",
    "nome = \"João\"\n",
    "\n",
    "# 3 - declare uma variavel chamada saldo e atribua um valor 100.50 a ela\n",
    "\n",
    "saldo = 100.50\n",
    "\n",
    "# 4 - declare uma variavel soma saldo e atribua a ela a soma das variaveis idade e saldo\n",
    "\n",
    "soma = idade + saldo\n",
    "\n",
    "# 5 - Imprima o valor da variável soma\n",
    "\n",
    "print(\"Soma: \", soma)\n"
   ]
  },
  {
   "cell_type": "code",
   "execution_count": 28,
   "metadata": {},
   "outputs": [
    {
     "name": "stdout",
     "output_type": "stream",
     "text": [
      "Media:  7.57\n"
     ]
    }
   ],
   "source": [
    "# 1 - crie uma variavel chamada nota1 e atribua o valor 7.5\n",
    "\n",
    "nota1 = 7.5\n",
    "\n",
    "# 2 - crie uma variavel chamada nota2 e atribua o valor 8.3\n",
    "\n",
    "nota2 = 8.3\n",
    "\n",
    "# 3 - crie uma variavel chamada nota3 e atribua o valor 6.9\n",
    "\n",
    "nota3 = 6.9\n",
    "\n",
    "# 4 - Calcule a media das tres notas e atribua o resultado a variável media\n",
    "\n",
    "media = (nota1 + nota2+ nota3) /  3\n",
    "\n",
    "# 5 - Imprima na tela o valor da media com duas casa decimais\n",
    "\n",
    "print(\"Media: \", format(media, \".2f\"))\n"
   ]
  }
 ],
 "metadata": {
  "kernelspec": {
   "display_name": "Python 3",
   "language": "python",
   "name": "python3"
  },
  "language_info": {
   "codemirror_mode": {
    "name": "ipython",
    "version": 3
   },
   "file_extension": ".py",
   "mimetype": "text/x-python",
   "name": "python",
   "nbconvert_exporter": "python",
   "pygments_lexer": "ipython3",
   "version": "3.11.5"
  }
 },
 "nbformat": 4,
 "nbformat_minor": 2
}
