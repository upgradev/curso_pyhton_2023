{
 "cells": [
  {
   "cell_type": "code",
   "execution_count": null,
   "metadata": {},
   "outputs": [
    {
     "ename": "",
     "evalue": "",
     "output_type": "error",
     "traceback": [
      "\u001b[1;31mRunning cells with '/bin/python' requires the ipykernel package.\n",
      "\u001b[1;31mRun the following command to install 'ipykernel' into the Python environment. \n",
      "\u001b[1;31mCommand: '/bin/python -m pip install ipykernel -U --user --force-reinstall'"
     ]
    }
   ],
   "source": [
    "x, y = 5, 15\n",
    "while x < 10 and y > 10:\n",
    "    print(f\"x : {x}, y: {y} \")\n",
    "    x += 1\n",
    "    y -= 1\n",
    "\n",
    "print(\"Loop concluido!\")\n",
    "print(f\"Valores Finais - x: {x}, y{y}\")"
   ]
  },
  {
   "cell_type": "code",
   "execution_count": null,
   "metadata": {},
   "outputs": [
    {
     "ename": "",
     "evalue": "",
     "output_type": "error",
     "traceback": [
      "\u001b[1;31mRunning cells with '/bin/python' requires the ipykernel package.\n",
      "\u001b[1;31mRun the following command to install 'ipykernel' into the Python environment. \n",
      "\u001b[1;31mCommand: '/bin/python -m pip install ipykernel -U --user --force-reinstall'"
     ]
    }
   ],
   "source": [
    "numero_secreto1 = 7\n",
    "numero_secreto2 = 3\n",
    "\n",
    "tentativas = 5\n",
    "\n",
    "adivinhou1 = False\n",
    "adivinhou2 = False\n",
    "\n",
    "while tentativas > 0 and (not adivinhou1 or not adivinhou2):\n",
    "    print(f\"Tentativas restantes: {tentativas}\")\n",
    "\n",
    "    palpite1 = int(input(\"Adivinhe o primeiro numero secreto (1-10)\"))\n",
    "    palpite2 = int(input(\"Adivinhe o segundo numero secreto (1-10)\"))\n",
    "\n",
    "    if palpite1 == numero_secreto1:\n",
    "        print(\"Você adivinhou o primeiro número!\")\n",
    "\n",
    "        adivinhou1 = True\n",
    "    if palpite2 == numero_secreto2:\n",
    "        print(\"Você adivinhou o segundo número!\")\n",
    "\n",
    "        adivinhou2 = True\n",
    "    if not adivinhou1 or not adivinhou2:\n",
    "        print(\"Tente novamente!\")\n",
    "\n",
    "        tentativas -= 1\n",
    "\n",
    "if adivinhou1 and adivinhou2:\n",
    "    print(\"Parabéns você adivinhou ambos os números\")\n",
    "else:\n",
    "    print(f\"Você não conseguiu adivinhas os numeros. Eles eram: {numero_secreto1} e {numero_secreto2}\")"
   ]
  }
 ],
 "metadata": {
  "kernelspec": {
   "display_name": "base",
   "language": "python",
   "name": "python3"
  },
  "language_info": {
   "codemirror_mode": {
    "name": "ipython",
    "version": 3
   },
   "file_extension": ".py",
   "mimetype": "text/x-python",
   "name": "python",
   "nbconvert_exporter": "python",
   "pygments_lexer": "ipython3",
   "version": "3.11.8"
  }
 },
 "nbformat": 4,
 "nbformat_minor": 2
}
