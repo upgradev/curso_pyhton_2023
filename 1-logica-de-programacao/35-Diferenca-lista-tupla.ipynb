{
 "cells": [
  {
   "cell_type": "code",
   "execution_count": 1,
   "metadata": {},
   "outputs": [
    {
     "name": "stdout",
     "output_type": "stream",
     "text": [
      "['O pequeno principe', '1984', 'Dom Quixote', 'O senhor dos anéis']\n"
     ]
    }
   ],
   "source": [
    "# listas\n",
    "livros_mais_emprestados = ['O pequeno principe', '1984', 'Dom Quixote']\n",
    "livros_mais_emprestados.append('O senhor dos anéis')\n",
    "print(livros_mais_emprestados)"
   ]
  },
  {
   "cell_type": "code",
   "execution_count": null,
   "metadata": {},
   "outputs": [],
   "source": [
    "# tuplas\n",
    "livro_info = ('O pequeno principe',\n",
    "              'Antoine de Saint-Exupéry', '978-3-16-148410-0')\n"
   ]
  },
  {
   "cell_type": "markdown",
   "metadata": {},
   "source": [
    "Exercicio"
   ]
  },
  {
   "cell_type": "code",
   "execution_count": 7,
   "metadata": {},
   "outputs": [
    {
     "name": "stdout",
     "output_type": "stream",
     "text": [
      "('Torre Eiffel', 'França', 'FR-001')\n",
      "\n",
      "['Maravilhoso', 'A vista é espetacular', 'Muito lotado durante a temporada alta']\n",
      "['Maravilhoso', 'A vista é espetacular', 'Muito lotado durante a temporada alta', 'Recomendo visitar a noite']\n"
     ]
    }
   ],
   "source": [
    "# Diferença entre lista e tupla\n",
    "\n",
    "# 1. Destino turistico\n",
    "destino_turistico = ('Torre Eiffel', \"França\", \"FR-001\")\n",
    "print(destino_turistico)\n",
    "print()\n",
    "\n",
    "# 2. Feedbacks dos usuarios\n",
    "feedbacks_torre_eiffel = [\n",
    "    \"Maravilhoso\",\n",
    "    \"A vista é espetacular\",\n",
    "    \"Muito lotado durante a temporada alta\"\n",
    "]\n",
    "print(feedbacks_torre_eiffel)\n",
    "# Para adicionar um novo feedback\n",
    "feedbacks_torre_eiffel.append(\"Recomendo visitar a noite\")\n",
    "print(feedbacks_torre_eiffel)\n",
    "\n"
   ]
  }
 ],
 "metadata": {
  "kernelspec": {
   "display_name": "base",
   "language": "python",
   "name": "python3"
  },
  "language_info": {
   "codemirror_mode": {
    "name": "ipython",
    "version": 3
   },
   "file_extension": ".py",
   "mimetype": "text/x-python",
   "name": "python",
   "nbconvert_exporter": "python",
   "pygments_lexer": "ipython3",
   "version": "3.11.5"
  }
 },
 "nbformat": 4,
 "nbformat_minor": 2
}
