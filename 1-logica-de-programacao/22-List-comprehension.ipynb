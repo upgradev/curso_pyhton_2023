{
 "cells": [
  {
   "cell_type": "markdown",
   "metadata": {},
   "source": [
    "Elas oferecem uma maneira concisa de criar listas, e são frequentemente\n",
    "mais compreensiveis e mais eficientes do que usar loops"
   ]
  },
  {
   "cell_type": "code",
   "execution_count": 2,
   "metadata": {},
   "outputs": [
    {
     "name": "stdout",
     "output_type": "stream",
     "text": [
      "[0, 1, 4, 9, 16, 25, 36, 49, 64, 81]\n",
      "[0, 1, 4, 9, 16, 25, 36, 49, 64, 81]\n"
     ]
    }
   ],
   "source": [
    "# exemplo basico\n",
    "quadrados = [x**2 for x in range(10)]\n",
    "print(quadrados)\n",
    "\n",
    "# basico e tradicional\n",
    "quadrados = []\n",
    "for x in range(10):\n",
    "    quadrados.append(x**2)\n",
    "print(quadrados)"
   ]
  },
  {
   "cell_type": "code",
   "execution_count": 3,
   "metadata": {},
   "outputs": [
    {
     "name": "stdout",
     "output_type": "stream",
     "text": [
      "[0, 4, 16, 36, 64]\n",
      "[0, 4, 16, 36, 64]\n"
     ]
    }
   ],
   "source": [
    "# tradicional\n",
    "quadrados_pares = []\n",
    "for x in range(10):\n",
    "    if x % 2 == 0:\n",
    "        quadrados_pares.append(x**2)\n",
    "print(quadrados_pares)\n",
    "\n",
    "# comprehension\n",
    "quadrados_pares_elegante = [x**2 for x in range(10) if x % 2 == 0]\n",
    "print(quadrados_pares_elegante)"
   ]
  },
  {
   "cell_type": "code",
   "execution_count": 4,
   "metadata": {},
   "outputs": [
    {
     "name": "stdout",
     "output_type": "stream",
     "text": [
      "[(1, 4), (2, 3), (3, 2), (4, 1)]\n",
      "[(1, 4), (2, 3), (3, 2), (4, 1)]\n"
     ]
    }
   ],
   "source": [
    "# tradicional\n",
    "a = [1, 2, 3, 4]\n",
    "b = [1, 2, 3, 4]\n",
    "\n",
    "combinacoes = []\n",
    "\n",
    "for x in a:\n",
    "    for y in b:\n",
    "        if x + y == 5:\n",
    "            combinacoes.append((x, y))\n",
    "\n",
    "print(combinacoes)\n",
    "\n",
    "# comprehension\n",
    "combinacoes = [(x, y) for x in a for y in b if x + y == 5]\n",
    "print(combinacoes)\n"
   ]
  },
  {
   "cell_type": "markdown",
   "metadata": {},
   "source": [
    "Exercicio"
   ]
  },
  {
   "cell_type": "code",
   "execution_count": 4,
   "metadata": {},
   "outputs": [
    {
     "name": "stdout",
     "output_type": "stream",
     "text": [
      "Cubo de números de 1 a 10: [0, 1, 8, 27, 64, 125, 216, 343, 512, 729]\n",
      "Números divisiveis por 3 de 1 a 20: [3, 6, 9, 12, 15, 18]\n",
      "Frutas com mais de 5 caracteres: ['banana', 'abacaxi', 'laranja']\n",
      "Notas acima de 75: [89, 92, 78, 90, 99, 76, 80, 82]\n"
     ]
    }
   ],
   "source": [
    "numeros_ao_cubo = [x**3 for x in range(10)]\n",
    "print(f\"Cubo de números de 1 a 10: {numeros_ao_cubo}\")\n",
    "\n",
    "numeros_divisiveis_de_um_a_vinte = [x for x in range(1, 21) if x % 3 == 0]\n",
    "print(f\"Números divisiveis por 3 de 1 a 20: {numeros_divisiveis_de_um_a_vinte}\")\n",
    "\n",
    "frutas = [\"maça\", \"banana\", \"manga\", \"uva\", \"abacaxi\", \"laranja\"]\n",
    "frutas_com_mais_de_cinco_caracteres = [x for x in frutas if len(x) > 5]\n",
    "print(f\"Frutas com mais de 5 caracteres: {frutas_com_mais_de_cinco_caracteres}\")\n",
    "\n",
    "notas = [89, 92, 56, 78, 45, 34, 90, 99, 65, 76, 80, 82]\n",
    "notas_acima_75 = [x for x in notas if x > 75]\n",
    "print(f\"Notas acima de 75: {notas_acima_75}\")"
   ]
  }
 ],
 "metadata": {
  "kernelspec": {
   "display_name": "base",
   "language": "python",
   "name": "python3"
  },
  "language_info": {
   "codemirror_mode": {
    "name": "ipython",
    "version": 3
   },
   "file_extension": ".py",
   "mimetype": "text/x-python",
   "name": "python",
   "nbconvert_exporter": "python",
   "pygments_lexer": "ipython3",
   "version": "3.11.7"
  }
 },
 "nbformat": 4,
 "nbformat_minor": 2
}
