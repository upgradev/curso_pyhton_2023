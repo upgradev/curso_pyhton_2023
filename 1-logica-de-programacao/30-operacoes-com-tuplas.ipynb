{
 "cells": [
  {
   "cell_type": "code",
   "execution_count": null,
   "metadata": {},
   "outputs": [],
   "source": [
    "\"\"\"\n",
    "Operações com tuplas:\n",
    " Concatenção : (1,2) + (3, 4)\n",
    " Repetiçãio: (1,2) * 3\n",
    " verificar se um elemento esta na tupla: 2 in (1,2,3)\n",
    "\"\"\""
   ]
  },
  {
   "cell_type": "code",
   "execution_count": 4,
   "metadata": {},
   "outputs": [
    {
     "name": "stdout",
     "output_type": "stream",
     "text": [
      "(1, 2, 3, 4)\n",
      "(1, 2, 1, 2, 1, 2)\n"
     ]
    }
   ],
   "source": [
    "# Planejamento de viagem\n",
    "# 1. Concatenação de tuplas - adicionando destino as viagens\n",
    "primeira_cidades = (1, 2)\n",
    "proximas_cidades = (3, 4)\n",
    "\n",
    "roteiro_de_viagem = primeira_cidades + proximas_cidades\n",
    "print(roteiro_de_viagem)\n",
    "\n",
    "# 2. repetição - vsitando algumas cidades mais de uma vez\n",
    "cidades_favoritas = (1, 2)\n",
    "roteiro_repetido  = cidades_favoritas * 3\n",
    "print(roteiro_repetido)"
   ]
  },
  {
   "cell_type": "code",
   "execution_count": 9,
   "metadata": {},
   "outputs": [
    {
     "name": "stdout",
     "output_type": "stream",
     "text": [
      "True\n"
     ]
    }
   ],
   "source": [
    "# 3. verificar se uma cidade esta no seu roteiro\n",
    "roteiro_total = (1, 2, 3, 4, 1, 2, 1, 2)\n",
    "cidade_inclusa = 2 in roteiro_total\n",
    "print(cidade_inclusa)"
   ]
  },
  {
   "cell_type": "markdown",
   "metadata": {},
   "source": [
    "Exercicio Manipulando sequencia de números"
   ]
  },
  {
   "cell_type": "code",
   "execution_count": 13,
   "metadata": {},
   "outputs": [
    {
     "name": "stdout",
     "output_type": "stream",
     "text": [
      "(1, 2)\n",
      "(3, 4)\n",
      "(1, 2, 3, 4)\n",
      "(1, 2, 1, 2, 1, 2)\n",
      "True\n"
     ]
    }
   ],
   "source": [
    "A = (1, 2)\n",
    "print(A)\n",
    "B = (3, 4)\n",
    "print(B)\n",
    "C = A + B\n",
    "print(C)\n",
    "D = A * 3\n",
    "print(D)\n",
    "E = 2 in (1, 2, 3, 4, 1, 2, 1, 2)\n",
    "print(E)"
   ]
  }
 ],
 "metadata": {
  "kernelspec": {
   "display_name": "base",
   "language": "python",
   "name": "python3"
  },
  "language_info": {
   "codemirror_mode": {
    "name": "ipython",
    "version": 3
   },
   "file_extension": ".py",
   "mimetype": "text/x-python",
   "name": "python",
   "nbconvert_exporter": "python",
   "pygments_lexer": "ipython3",
   "version": "3.11.5"
  }
 },
 "nbformat": 4,
 "nbformat_minor": 2
}
