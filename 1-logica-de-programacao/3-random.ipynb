{
 "cells": [
  {
   "cell_type": "code",
   "execution_count": 50,
   "metadata": {},
   "outputs": [
    {
     "name": "stdout",
     "output_type": "stream",
     "text": [
      "13\n",
      "0.24497555352943634\n",
      "19\n",
      "maça\n",
      "[3, 5, 4, 2, 1]\n",
      "6.459593424711246\n"
     ]
    }
   ],
   "source": [
    "import random\n",
    "\n",
    "print(random.randrange(10, 20))\n",
    "\n",
    "print(random.random())\n",
    "\n",
    "print(random.randint(10, 20)) #inclui 10, 20\n",
    "\n",
    "frutas = [\"maça\", \"banana\", \"cereja\"]\n",
    "print(random.choice(frutas))\n",
    "\n",
    "numeros = [1,2,3,4,5]\n",
    "random.shuffle(numeros)\n",
    "print(numeros)\n",
    "\n",
    "print(random.uniform(5.5, 9.5)) # numero ponto flutuante"
   ]
  }
 ],
 "metadata": {
  "kernelspec": {
   "display_name": "base",
   "language": "python",
   "name": "python3"
  },
  "language_info": {
   "codemirror_mode": {
    "name": "ipython",
    "version": 3
   },
   "file_extension": ".py",
   "mimetype": "text/x-python",
   "name": "python",
   "nbconvert_exporter": "python",
   "pygments_lexer": "ipython3",
   "version": "3.11.5"
  }
 },
 "nbformat": 4,
 "nbformat_minor": 2
}
