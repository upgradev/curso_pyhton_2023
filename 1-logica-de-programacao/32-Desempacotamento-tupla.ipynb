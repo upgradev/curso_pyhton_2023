{
 "cells": [
  {
   "cell_type": "code",
   "execution_count": 1,
   "metadata": {},
   "outputs": [
    {
     "name": "stdout",
     "output_type": "stream",
     "text": [
      "Nome do estudante: João\n",
      "Idade do estudante: 20\n",
      "Nota média do estudante: 85.5\n"
     ]
    }
   ],
   "source": [
    "# dados fornecidos\n",
    "estudante_info = (\"João\", 20, 85.5)\n",
    "\n",
    "# desempacotamento\n",
    "nome, idade, nota_media = estudante_info\n",
    "print(f\"Nome do estudante: {nome}\")\n",
    "print(f\"Idade do estudante: {idade}\")\n",
    "print(f\"Nota média do estudante: {nota_media}\")"
   ]
  },
  {
   "cell_type": "markdown",
   "metadata": {},
   "source": [
    "Exercicio"
   ]
  },
  {
   "cell_type": "code",
   "execution_count": 4,
   "metadata": {},
   "outputs": [
    {
     "name": "stdout",
     "output_type": "stream",
     "text": [
      "a. Destino: Paris\n",
      "b. Quantas noites: 5\n",
      "a. Preço do pacote: 1500\n"
     ]
    }
   ],
   "source": [
    "pacote_viagem = (\"Paris\", 5, 1500)\n",
    "destino, noite, preco = pacote_viagem\n",
    "print(f\"a. Destino: {destino}\")\n",
    "print(f\"b. Quantas noites: {noite}\")\n",
    "print(f\"a. Preço do pacote: {preco}\")"
   ]
  }
 ],
 "metadata": {
  "kernelspec": {
   "display_name": "base",
   "language": "python",
   "name": "python3"
  },
  "language_info": {
   "codemirror_mode": {
    "name": "ipython",
    "version": 3
   },
   "file_extension": ".py",
   "mimetype": "text/x-python",
   "name": "python",
   "nbconvert_exporter": "python",
   "pygments_lexer": "ipython3",
   "version": "3.11.5"
  }
 },
 "nbformat": 4,
 "nbformat_minor": 2
}
