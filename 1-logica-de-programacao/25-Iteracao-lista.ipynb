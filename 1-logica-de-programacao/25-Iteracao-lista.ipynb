{
 "cells": [
  {
   "cell_type": "markdown",
   "metadata": {},
   "source": [
    "Iteração em listas"
   ]
  },
  {
   "cell_type": "code",
   "execution_count": 3,
   "metadata": {},
   "outputs": [
    {
     "name": "stdout",
     "output_type": "stream",
     "text": [
      "maça\n",
      "banana\n",
      "cereja\n",
      "damasco\n",
      "figo\n",
      "Fruta no indice: 0 e maça\n",
      "Fruta no indice: 1 e banana\n",
      "Fruta no indice: 2 e cereja\n",
      "Fruta no indice: 3 e damasco\n",
      "Fruta no indice: 4 e figo\n"
     ]
    }
   ],
   "source": [
    "# exemplo pratico\n",
    "frutas = [\"maça\", \"banana\", \"cereja\", \"damasco\", \"figo\"]\n",
    "\n",
    "for fruta in frutas:\n",
    "    print(fruta)\n",
    "\n",
    "# verificar o indice\n",
    "for indice, fruta in enumerate(frutas):\n",
    "    print(f\"Fruta no indice: {indice} e {fruta}\")\n",
    "    "
   ]
  },
  {
   "cell_type": "markdown",
   "metadata": {},
   "source": [
    "Exercicio"
   ]
  },
  {
   "cell_type": "code",
   "execution_count": 8,
   "metadata": {},
   "outputs": [
    {
     "name": "stdout",
     "output_type": "stream",
     "text": [
      "Alice\n",
      "Bruno\n",
      "Clara\n",
      "Daniel\n",
      "Eduarda\n",
      "A posicão do nome Alice é 0\n",
      "A posicão do nome Bruno é 1\n",
      "A posicão do nome Clara é 2\n",
      "A posicão do nome Daniel é 3\n",
      "A posicão do nome Eduarda é 4\n",
      "[85, 90, 78, 92, 88]\n",
      "O nome Alice obteve a nota 85\n",
      "O nome Bruno obteve a nota 90\n",
      "O nome Clara obteve a nota 78\n",
      "O nome Daniel obteve a nota 92\n",
      "O nome Eduarda obteve a nota 88\n"
     ]
    }
   ],
   "source": [
    "nomes = [\"Alice\", \"Bruno\", \"Clara\", \"Daniel\", \"Eduarda\"]\n",
    "for nome in nomes:\n",
    "    print(nome)\n",
    "\n",
    "for indice, nome in enumerate(nomes):\n",
    "    print(f\"A posicão do nome {nome} é {indice}\")\n",
    "\n",
    "notas = [85, 90, 78, 92, 88]\n",
    "print(notas)\n",
    "\n",
    "for indice, nome in enumerate(nomes):\n",
    "    print(f\"O nome {nome} obteve a nota {notas[indice]}\")"
   ]
  }
 ],
 "metadata": {
  "kernelspec": {
   "display_name": "base",
   "language": "python",
   "name": "python3"
  },
  "language_info": {
   "codemirror_mode": {
    "name": "ipython",
    "version": 3
   },
   "file_extension": ".py",
   "mimetype": "text/x-python",
   "name": "python",
   "nbconvert_exporter": "python",
   "pygments_lexer": "ipython3",
   "version": "3.11.5"
  }
 },
 "nbformat": 4,
 "nbformat_minor": 2
}
