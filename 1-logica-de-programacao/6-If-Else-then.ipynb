{
 "cells": [
  {
   "cell_type": "code",
   "execution_count": 1,
   "metadata": {},
   "outputs": [
    {
     "name": "stdout",
     "output_type": "stream",
     "text": [
      "O número 1 é maior que o número 2\n"
     ]
    }
   ],
   "source": [
    "numero1 = 90\n",
    "numero2 = 12\n",
    "\n",
    "if(numero1 > numero2):\n",
    "    print(\"O número 1 é maior que o número 2\")"
   ]
  },
  {
   "cell_type": "code",
   "execution_count": 2,
   "metadata": {},
   "outputs": [
    {
     "name": "stdout",
     "output_type": "stream",
     "text": [
      "O número da variavel numero1 é igual o numero da variavel número2\n"
     ]
    }
   ],
   "source": [
    "numero1 = 6\n",
    "numero2 = 6\n",
    "\n",
    "if numero1 > numero2:\n",
    "    print(\"O número 1 é maior que o número 2\")\n",
    "elif numero1 == numero2:\n",
    "    print(\"O número da variavel numero1 é igual o numero da variavel número2\")   "
   ]
  },
  {
   "cell_type": "code",
   "execution_count": 4,
   "metadata": {},
   "outputs": [
    {
     "name": "stdout",
     "output_type": "stream",
     "text": [
      "Parabéns você adivinhou o número secreto\n"
     ]
    }
   ],
   "source": [
    "numero_secreto = 7\n",
    "\n",
    "chute = int(input(\"Tente adivinhar o número secreto entre 1 e 10\"))\n",
    "\n",
    "if chute == numero_secreto:\n",
    "    print(\"Parabéns você adivinhou o número secreto\")\n",
    "else:\n",
    "    print(\"Desculpe, você não adivinhou o número secreto. Tente novamente.\")"
   ]
  },
  {
   "cell_type": "code",
   "execution_count": 6,
   "metadata": {},
   "outputs": [
    {
     "name": "stdout",
     "output_type": "stream",
     "text": [
      "Você pode votar\n"
     ]
    }
   ],
   "source": [
    "idade = int(input(\"Insira sua idade\"))\n",
    "\n",
    "if idade >= 18:\n",
    "    print(\"Você pode votar\")\n",
    "else:\n",
    "    print(\"Não pode votar\")"
   ]
  },
  {
   "cell_type": "code",
   "execution_count": 14,
   "metadata": {},
   "outputs": [
    {
     "name": "stdout",
     "output_type": "stream",
     "text": [
      "O 2 é menor que o 6\n"
     ]
    }
   ],
   "source": [
    "numero1 = 2\n",
    "numero2 = 6\n",
    "\n",
    "if numero1 > numero2:\n",
    "    print(f\"O {numero1} é maior que o {numero2}\")\n",
    "elif numero1 == numero2:\n",
    "    print(f\"O {numero1} é igual ao {numero2}\")\n",
    "else:\n",
    "    print(f\"O {numero1} é menor que o {numero2}\")"
   ]
  },
  {
   "cell_type": "code",
   "execution_count": 15,
   "metadata": {},
   "outputs": [
    {
     "name": "stdout",
     "output_type": "stream",
     "text": [
      "As duas condições são verdadeiras\n"
     ]
    }
   ],
   "source": [
    "numero1 = 50\n",
    "numero2 = 21\n",
    "numero3 = 200\n",
    "\n",
    "if numero1 > numero2 and numero3 > numero1:\n",
    "    print(\"As duas condições são verdadeiras\")"
   ]
  },
  {
   "cell_type": "code",
   "execution_count": 9,
   "metadata": {},
   "outputs": [
    {
     "name": "stdout",
     "output_type": "stream",
     "text": [
      "Bom\n"
     ]
    }
   ],
   "source": [
    "nota = int(input(\"Insira a nota (0-100): \"))\n",
    "\n",
    "if nota >= 90 and nota <= 100:\n",
    "    print(\"Excelente\")\n",
    "elif nota >=70 and nota <= 89:\n",
    "    print(\"Bom\")\n",
    "elif nota >=50 and nota <= 69:\n",
    "    print(\"Satisfatorio\")\n",
    "elif nota >=0 and nota <= 49:\n",
    "    print(\"Insuficiente\")\n",
    "else:\n",
    "    print(\"Valor inválido\")"
   ]
  },
  {
   "cell_type": "code",
   "execution_count": 13,
   "metadata": {},
   "outputs": [
    {
     "name": "stdout",
     "output_type": "stream",
     "text": [
      "Você recebeu 10% de desconto\n",
      "Valor do desconto: R$: 50.00\n",
      "Valor final da compra: R$: 450.00\n"
     ]
    }
   ],
   "source": [
    "valor_compra = float(input(\"Insira o valor da compra: \"))\n",
    "\n",
    "if valor_compra > 1000:\n",
    "    desconto = 0.20 * valor_compra\n",
    "    print(\"Você recebeu 20% de desconto\")\n",
    "elif valor_compra >= 500 and valor_compra <= 1000:\n",
    "    desconto = 0.10 * valor_compra\n",
    "    print(\"Você recebeu 10% de desconto\")\n",
    "else:\n",
    "    desconto = 0\n",
    "    print(\"Você não recebeu desconto\")\n",
    "\n",
    "valor_final = valor_compra - desconto\n",
    "\n",
    "print(f\"Valor do desconto: R$: {desconto:.2f}\")\n",
    "print(f\"Valor final da compra: R$: {valor_final:.2f}\")"
   ]
  },
  {
   "cell_type": "code",
   "execution_count": 15,
   "metadata": {},
   "outputs": [
    {
     "name": "stdout",
     "output_type": "stream",
     "text": [
      "O 19 é maior que 150 ou o 19 é maior que o 18\n"
     ]
    }
   ],
   "source": [
    "# IF COM OR\n",
    "numero1 = 19\n",
    "numero2 = 150\n",
    "numero3 = 18\n",
    "\n",
    "if numero1 > 2 or numero1 > numero3:\n",
    "    print(f\"O {numero1} é maior que {numero2} ou o {numero1} é maior que o {numero3}\")"
   ]
  },
  {
   "cell_type": "code",
   "execution_count": 18,
   "metadata": {},
   "outputs": [
    {
     "name": "stdout",
     "output_type": "stream",
     "text": [
      "Desculpe, você não pode entrar no evento!\n"
     ]
    }
   ],
   "source": [
    "convite_vip = input(\"Tem Convite Vip? (sim/nao): \")\n",
    "lista_convidados = input(\"Está na lista de convidados? (sim/nao): \")\n",
    "membro_clube = input(\"Você é membro do clube? (sim/nao): \")\n",
    "\n",
    "if convite_vip == \"sim\" or lista_convidados == \"sim\" or membro_clube == \"sim\":\n",
    "    print(\"Bem vindo ao evento!\")\n",
    "else:\n",
    "    print(\"Desculpe, você não pode entrar no evento!\")"
   ]
  },
  {
   "cell_type": "code",
   "execution_count": 27,
   "metadata": {},
   "outputs": [
    {
     "name": "stdout",
     "output_type": "stream",
     "text": [
      "Número 5 é impar\n"
     ]
    }
   ],
   "source": [
    "# par impar\n",
    "numero = int(input(\"Digite um número inteiro e positivo\"))\n",
    "if numero % 2 == 0:\n",
    "    print(f\"Número {numero} é par\")\n",
    "else:\n",
    "    print(f\"Número {numero} é impar\")"
   ]
  },
  {
   "cell_type": "code",
   "execution_count": 28,
   "metadata": {},
   "outputs": [
    {
     "name": "stdout",
     "output_type": "stream",
     "text": [
      "adulto\n"
     ]
    }
   ],
   "source": [
    "# TERNARIO\n",
    "\n",
    "age = 18\n",
    "status = \"adulto\" if age >=18 else \"menor de idade\"\n",
    "print(status)"
   ]
  },
  {
   "cell_type": "code",
   "execution_count": 2,
   "metadata": {},
   "outputs": [
    {
     "name": "stdout",
     "output_type": "stream",
     "text": [
      "Impar\n"
     ]
    }
   ],
   "source": [
    "# determinar se um numero é par e impar\n",
    "numero = 43\n",
    "resultado = \"Par\" if numero % 2 == 0 else \"Impar\"\n",
    "print(resultado)"
   ]
  },
  {
   "cell_type": "code",
   "execution_count": 6,
   "metadata": {},
   "outputs": [
    {
     "name": "stdout",
     "output_type": "stream",
     "text": [
      "média\n"
     ]
    }
   ],
   "source": [
    "# suponha que você tenha uma pontuação e queira categoriza-la, como baixa, media e alta\n",
    "\n",
    "score = 80\n",
    "categoria = \"baixa\" if score < 50 else \"média\" if score < 80 else \"alta\"\n",
    "print(categoria)"
   ]
  }
 ],
 "metadata": {
  "kernelspec": {
   "display_name": "base",
   "language": "python",
   "name": "python3"
  },
  "language_info": {
   "codemirror_mode": {
    "name": "ipython",
    "version": 3
   },
   "file_extension": ".py",
   "mimetype": "text/x-python",
   "name": "python",
   "nbconvert_exporter": "python",
   "pygments_lexer": "ipython3",
   "version": "3.11.5"
  }
 },
 "nbformat": 4,
 "nbformat_minor": 2
}
