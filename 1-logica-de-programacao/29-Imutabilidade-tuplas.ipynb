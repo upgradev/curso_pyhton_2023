{
 "cells": [
  {
   "cell_type": "markdown",
   "metadata": {},
   "source": [
    "Imutabilidade\n",
    "    Tentativas de aletrar um elemento de uma tupla resultarão em um erro.\n",
    "    Mas se o elemento da tupla for mutável, como uma lista, voce pode modificar esse elemento"
   ]
  },
  {
   "cell_type": "code",
   "execution_count": 2,
   "metadata": {},
   "outputs": [],
   "source": [
    "#  primeiro exemplo Tentativas de aletrar um elemento de uma tupla resultarão em um erro.\n",
    "dimensoes_bagagens = (55,35,25)\n",
    "# dimensoes_bagagens[0] = 60 # erro pois nao pode modificar uma tupla\n",
    "\n"
   ]
  },
  {
   "cell_type": "code",
   "execution_count": 7,
   "metadata": {},
   "outputs": [
    {
     "name": "stdout",
     "output_type": "stream",
     "text": [
      "((55, 35, 25), ['liquidos acima de 100ml', 'objetos cortantes', 'material explosivo'])\n",
      "((55, 35, 25), ['liquidos acima de 100ml', 'objetos cortantes', 'material explosivo', 'baterias de litio'])\n"
     ]
    }
   ],
   "source": [
    "#  segundo exemplo Mas se o elemento da tupla for mutável, como uma lista, voce pode modificar esse elemento\n",
    "itens_proibidos = [\"liquidos acima de 100ml\", \"objetos cortantes\", \"material explosivo\"]\n",
    "regras_bagagem = (dimensoes_bagagens, itens_proibidos)\n",
    "print(regras_bagagem)\n",
    "regras_bagagem[1].append(\"baterias de litio\")\n",
    "print(regras_bagagem)"
   ]
  },
  {
   "cell_type": "markdown",
   "metadata": {},
   "source": [
    "Exercicio gerenciamento venda de produtos"
   ]
  },
  {
   "cell_type": "code",
   "execution_count": 9,
   "metadata": {},
   "outputs": [
    {
     "name": "stdout",
     "output_type": "stream",
     "text": [
      "('Smarthphone', 1000.0, [2, 3, 4, 5])\n",
      "[2, 3, 4, 5]\n"
     ]
    }
   ],
   "source": [
    "produto = (\"Smarthphone\", 1000.00, [2, 3, 4])\n",
    "produto[2].append(5)\n",
    "print(produto)\n",
    "print(produto[2])"
   ]
  }
 ],
 "metadata": {
  "kernelspec": {
   "display_name": "base",
   "language": "python",
   "name": "python3"
  },
  "language_info": {
   "codemirror_mode": {
    "name": "ipython",
    "version": 3
   },
   "file_extension": ".py",
   "mimetype": "text/x-python",
   "name": "python",
   "nbconvert_exporter": "python",
   "pygments_lexer": "ipython3",
   "version": "3.11.5"
  }
 },
 "nbformat": 4,
 "nbformat_minor": 2
}
