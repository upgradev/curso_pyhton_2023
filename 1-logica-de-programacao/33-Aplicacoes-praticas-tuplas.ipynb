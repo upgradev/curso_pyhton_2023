{
 "cells": [
  {
   "cell_type": "code",
   "execution_count": 1,
   "metadata": {},
   "outputs": [
    {
     "name": "stdout",
     "output_type": "stream",
     "text": [
      "Total vendido: 185\n",
      "Produto mais vendido: A\n"
     ]
    }
   ],
   "source": [
    "# Analisando vendas\n",
    "# Retornando multiplos valores de uma função usando tuplas\n",
    "def analisar_vendas(vendas_A, vendas_B):\n",
    "    total_vendido = vendas_A + vendas_B\n",
    "    mais_vendido = \"A\" if vendas_A > vendas_B else \"B\"\n",
    "    return total_vendido, mais_vendido\n",
    "\n",
    "\n",
    "total, top_produto = analisar_vendas(100, 85)\n",
    "print(f\"Total vendido: {total}\")\n",
    "print(f\"Produto mais vendido: {top_produto}\")"
   ]
  },
  {
   "cell_type": "code",
   "execution_count": 2,
   "metadata": {},
   "outputs": [
    {
     "name": "stdout",
     "output_type": "stream",
     "text": [
      "Vendas A: 100, vendas B: 90\n",
      "Vendas A: 100, vendas B: 115\n",
      "Vendas A: 105, vendas B: 100\n",
      "\n"
     ]
    }
   ],
   "source": [
    "# Loop for\n",
    "vendas = [(100, 90), (100, 115), (105, 100)]\n",
    "\n",
    "for vendas_A, vendas_B in vendas:\n",
    "    print(f\"Vendas A: {vendas_A}, vendas B: {vendas_B}\")\n",
    "    \n",
    "print()"
   ]
  },
  {
   "cell_type": "code",
   "execution_count": 4,
   "metadata": {},
   "outputs": [
    {
     "name": "stdout",
     "output_type": "stream",
     "text": [
      "Vendas corrigidas - A: 85, B: 100\n",
      "100\n"
     ]
    }
   ],
   "source": [
    "# Trocando valores\n",
    "vendas_A = 100\n",
    "vendas_B = 85\n",
    "vendas_A, vendas_B = vendas_B, vendas_A\n",
    "print(f\"Vendas corrigidas - A: {vendas_A}, B: {vendas_B}\")"
   ]
  },
  {
   "cell_type": "markdown",
   "metadata": {},
   "source": [
    "Exercicio"
   ]
  },
  {
   "cell_type": "code",
   "execution_count": 1,
   "metadata": {},
   "outputs": [
    {
     "name": "stdout",
     "output_type": "stream",
     "text": [
      "Total de vendas: 150\n",
      "Produto mais vendido: smartphone\n"
     ]
    }
   ],
   "source": [
    "# RETORNANDO MULTIPLOS VALORES USANDO A TUPLA\n",
    "\n",
    "def resumo_vendas(vendas_smarthphones , vendas_smathwatches):\n",
    "    total_vendas =vendas_smarthphones + vendas_smathwatches\n",
    "    mais_vendido = \"smartphone\" if vendas_smarthphones > vendas_smathwatches else \"smartwatch\"\n",
    "    \n",
    "    return total_vendas, mais_vendido\n",
    "\n",
    "total, top_produto = resumo_vendas(80, 70)\n",
    "print(f\"Total de vendas: {total}\")\n",
    "print(f\"Produto mais vendido: {top_produto}\")"
   ]
  },
  {
   "cell_type": "code",
   "execution_count": 2,
   "metadata": {},
   "outputs": [
    {
     "name": "stdout",
     "output_type": "stream",
     "text": [
      "Vendas de smartphone: 70, vendas de smartwatch: 65\n",
      "Vendas de smartphone: 80, vendas de smartwatch: 82\n",
      "Vendas de smartphone: 90, vendas de smartwatch: 88\n",
      "\n"
     ]
    }
   ],
   "source": [
    "# USO DE TUPLAS EM LOOP FOR\n",
    "vendas_semana = [(70, 65), (80, 82), (90, 88)]\n",
    "for smartphone, smartwatch in vendas_semana:\n",
    "    print(f\"Vendas de smartphone: {smartphone}, vendas de smartwatch: {smartwatch}\")\n",
    "    \n",
    "print()"
   ]
  },
  {
   "cell_type": "code",
   "execution_count": 3,
   "metadata": {},
   "outputs": [
    {
     "name": "stdout",
     "output_type": "stream",
     "text": [
      "(70, 65)\n"
     ]
    }
   ],
   "source": [
    "# TROCANDO VALORES ENTRE DUAS VARIAVEIS\n",
    "vendas_segunda = (65, 70)\n",
    "\n",
    "vendas_segunda = vendas_segunda[::-1]\n",
    "print(vendas_segunda)"
   ]
  }
 ],
 "metadata": {
  "kernelspec": {
   "display_name": "base",
   "language": "python",
   "name": "python3"
  },
  "language_info": {
   "codemirror_mode": {
    "name": "ipython",
    "version": 3
   },
   "file_extension": ".py",
   "mimetype": "text/x-python",
   "name": "python",
   "nbconvert_exporter": "python",
   "pygments_lexer": "ipython3",
   "version": "3.11.5"
  }
 },
 "nbformat": 4,
 "nbformat_minor": 2
}
