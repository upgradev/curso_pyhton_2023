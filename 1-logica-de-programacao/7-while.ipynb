{
 "cells": [
  {
   "cell_type": "code",
   "execution_count": 2,
   "metadata": {},
   "outputs": [
    {
     "name": "stdout",
     "output_type": "stream",
     "text": [
      "1\n",
      "2\n",
      "3\n",
      "4\n"
     ]
    }
   ],
   "source": [
    "numero = 1\n",
    "\n",
    "while numero < 5:\n",
    "    print(numero)\n",
    "    numero += 1\n"
   ]
  },
  {
   "cell_type": "code",
   "execution_count": 4,
   "metadata": {},
   "outputs": [
    {
     "name": "stdout",
     "output_type": "stream",
     "text": [
      "10\n",
      "9\n",
      "8\n",
      "7\n",
      "6\n",
      "5\n",
      "4\n",
      "3\n",
      "2\n",
      "1\n"
     ]
    }
   ],
   "source": [
    "contador = 10\n",
    "\n",
    "while contador >= 1:\n",
    "    print(contador)\n",
    "    contador -= 1"
   ]
  },
  {
   "cell_type": "code",
   "execution_count": 5,
   "metadata": {},
   "outputs": [
    {
     "name": "stdout",
     "output_type": "stream",
     "text": [
      "10\n",
      "8\n",
      "6\n",
      "4\n",
      "2\n"
     ]
    }
   ],
   "source": [
    "contador = 10\n",
    "\n",
    "while contador >= 1:\n",
    "    print(contador)\n",
    "    contador -= 2"
   ]
  },
  {
   "cell_type": "code",
   "execution_count": 6,
   "metadata": {},
   "outputs": [
    {
     "name": "stdout",
     "output_type": "stream",
     "text": [
      "Numero: 1\n",
      "Numero: 2\n",
      "Numero: 3\n",
      "Numero: 4\n",
      "Numero: 5\n",
      "Numero: 6\n",
      "Numero: 7\n",
      "Numero: 8\n",
      "Numero: 9\n",
      "Numero: 10\n",
      "Números impressos com sucesso\n"
     ]
    }
   ],
   "source": [
    "contador = 0\n",
    "\n",
    "while contador < 10:\n",
    "    contador += 1\n",
    "    print(f\"Numero: {contador}\")\n",
    "else:\n",
    "    print(\"Números impressos com sucesso\")"
   ]
  },
  {
   "cell_type": "code",
   "execution_count": 7,
   "metadata": {},
   "outputs": [
    {
     "name": "stdout",
     "output_type": "stream",
     "text": [
      "1\n",
      "2\n",
      "3\n",
      "4\n",
      "5\n"
     ]
    }
   ],
   "source": [
    "numero = 1\n",
    "\n",
    "while numero < 100:\n",
    "    print(numero)\n",
    "\n",
    "    if(numero == 5):\n",
    "        break\n",
    "    numero += 1"
   ]
  },
  {
   "cell_type": "code",
   "execution_count": 8,
   "metadata": {},
   "outputs": [
    {
     "name": "stdout",
     "output_type": "stream",
     "text": [
      "Linha: 0 - Coluna 0\n",
      "Linha: 0 - Coluna 1\n",
      "Linha: 0 - Coluna 2\n",
      "Linha: 1 - Coluna 0\n",
      "Linha: 1 - Coluna 1\n",
      "Linha: 1 - Coluna 2\n",
      "Linha: 2 - Coluna 0\n",
      "Linha: 2 - Coluna 1\n",
      "Linha: 2 - Coluna 2\n"
     ]
    }
   ],
   "source": [
    "linha = 0\n",
    "\n",
    "while linha < 3:\n",
    "    coluna = 0\n",
    "    while coluna < 3:\n",
    "        print(f\"Linha: {linha} - Coluna {coluna}\")\n",
    "        coluna += 1\n",
    "    linha += 1"
   ]
  },
  {
   "cell_type": "code",
   "execution_count": 12,
   "metadata": {},
   "outputs": [
    {
     "name": "stdout",
     "output_type": "stream",
     "text": [
      "Numero digita: 4\n",
      "1\n",
      "2\n",
      "3\n",
      "4\n"
     ]
    }
   ],
   "source": [
    "numeroInicial = 1\n",
    "numeroFinal = int(input(\"Digite um número maior que 1: \"))\n",
    "print(f\"Numero digita: {numeroFinal}\")\n",
    "while numeroInicial <= numeroFinal:\n",
    "    print(numeroInicial)\n",
    "    numeroInicial += 1"
   ]
  },
  {
   "cell_type": "code",
   "execution_count": 15,
   "metadata": {},
   "outputs": [
    {
     "name": "stdout",
     "output_type": "stream",
     "text": [
      "Números pares entre 1 e  30\n",
      "2 4 6 8 10 12 14 16 18 20 22 24 26 28 30 "
     ]
    }
   ],
   "source": [
    "numero = 1\n",
    "\n",
    "max = int(input(\"Digite um número maior que 1: \"))\n",
    "print(\"Números pares entre 1 e \", max)\n",
    "\n",
    "while numero <= max:\n",
    "    if numero % 2 == 0:\n",
    "        print(numero, end=\" \")\n",
    "    numero += 1"
   ]
  }
 ],
 "metadata": {
  "kernelspec": {
   "display_name": "base",
   "language": "python",
   "name": "python3"
  },
  "language_info": {
   "codemirror_mode": {
    "name": "ipython",
    "version": 3
   },
   "file_extension": ".py",
   "mimetype": "text/x-python",
   "name": "python",
   "nbconvert_exporter": "python",
   "pygments_lexer": "ipython3",
   "version": "3.11.5"
  }
 },
 "nbformat": 4,
 "nbformat_minor": 2
}
