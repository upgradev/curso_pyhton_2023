{
 "cells": [
  {
   "cell_type": "code",
   "execution_count": 5,
   "metadata": {},
   "outputs": [
    {
     "name": "stdout",
     "output_type": "stream",
     "text": [
      "True\n",
      "True\n",
      "False\n",
      "True\n"
     ]
    }
   ],
   "source": [
    "# comparando o primeiro elemento\n",
    "t1 = (1, 2)\n",
    "t2 = (1, 3)\n",
    "print(t1 < t2)\n",
    "\n",
    "# ignorando elementos iguais\n",
    "t1 = (1, 2, 3)\n",
    "t2 = (1, 2, 4)\n",
    "print(t1 < t2)\n",
    "\n",
    "# comparando tuplas de diferentes tamanhos\n",
    "t1 = (1, 2, 3)\n",
    "t2 = (1, 2)\n",
    "print(t1 < t2)\n",
    "\n",
    "# comparacao de elementos de diferentes tipos, int antes de string\n",
    "t1 = (1, \"apple\")\n",
    "t2 = (2, \"banana\")\n",
    "print(t1 < t2)"
   ]
  },
  {
   "cell_type": "markdown",
   "metadata": {},
   "source": [
    "exercicio"
   ]
  },
  {
   "cell_type": "code",
   "execution_count": 11,
   "metadata": {},
   "outputs": [
    {
     "name": "stdout",
     "output_type": "stream",
     "text": [
      "t1 é maior\n",
      "t3 é maior que t1? True \n",
      "t4 é menor\n",
      "t1 e t5 são iguais? True\n"
     ]
    }
   ],
   "source": [
    "t1 = (3, 5)\n",
    "t2 = (3, 4, 10)\n",
    "t3 = (3, 6)\n",
    "t4 = (2, 100)\n",
    "t5 = (3, 5)\n",
    "\n",
    "# respostas\n",
    "if t1 > t2:\n",
    "    r1 = \"t1\"\n",
    "else:\n",
    "    r1 = \"t2\"\n",
    "print(f\"{r1} é maior\")\n",
    "\n",
    "r2 = t3 > t1 \n",
    "print(f\"t3 é maior que t1? {r2} \")\n",
    "\n",
    "if t4 < t1:\n",
    "    r3 = \"t4\"\n",
    "else:\n",
    "    r3  = \"t1\"\n",
    "print(f\"{r3} é menor\")\n",
    "\n",
    "r4 = t1 == t5\n",
    "print(f\"t1 e t5 são iguais? {r4}\")\n",
    "\n"
   ]
  }
 ],
 "metadata": {
  "kernelspec": {
   "display_name": "base",
   "language": "python",
   "name": "python3"
  },
  "language_info": {
   "codemirror_mode": {
    "name": "ipython",
    "version": 3
   },
   "file_extension": ".py",
   "mimetype": "text/x-python",
   "name": "python",
   "nbconvert_exporter": "python",
   "pygments_lexer": "ipython3",
   "version": "3.11.5"
  }
 },
 "nbformat": 4,
 "nbformat_minor": 2
}
