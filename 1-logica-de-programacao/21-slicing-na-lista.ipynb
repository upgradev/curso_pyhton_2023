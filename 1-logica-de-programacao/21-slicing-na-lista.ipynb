{
 "cells": [
  {
   "cell_type": "markdown",
   "metadata": {},
   "source": [
    "Slicing de lista\n",
    "acessar subconjuntos de lista: minha_lista[1:3]\n",
    "Omissão de indices iniciais ou finais: minha_lista[:2], minha_lista[2:]\n",
    "slicing com passos: minha_lista[::2]\n",
    "Slicing (fatiamento) é uma manieira poderosa deacessar subconjuntos de lista"
   ]
  },
  {
   "cell_type": "code",
   "execution_count": 1,
   "metadata": {},
   "outputs": [
    {
     "name": "stdout",
     "output_type": "stream",
     "text": [
      "[1, 2, 3]\n"
     ]
    }
   ],
   "source": [
    "minha_lista = [0, 1, 2, 3, 4, 5, 6, 7, 8, 9]\n",
    "#  acessar subconjuntos de lista\n",
    "subconjuntos = minha_lista[1: 4]\n",
    "print(subconjuntos)"
   ]
  },
  {
   "cell_type": "code",
   "execution_count": 3,
   "metadata": {},
   "outputs": [
    {
     "name": "stdout",
     "output_type": "stream",
     "text": [
      "[0, 1]\n",
      "[2, 3, 4, 5, 6, 7, 8, 9]\n"
     ]
    }
   ],
   "source": [
    "# Omissão de indices iniciais ou finais\n",
    "primeiros_elemento = minha_lista[:2]\n",
    "print(primeiros_elemento)\n",
    "\n",
    "elementos_depois_do_indice_2 = minha_lista[2:]\n",
    "print(elementos_depois_do_indice_2)"
   ]
  },
  {
   "cell_type": "code",
   "execution_count": 5,
   "metadata": {},
   "outputs": [
    {
     "name": "stdout",
     "output_type": "stream",
     "text": [
      "[0, 2, 4, 6, 8]\n",
      "[2, 4, 6]\n"
     ]
    }
   ],
   "source": [
    "# slicing com passos\n",
    "elementos_alternados = minha_lista[::2] #do zero ate o final de dois em dois\n",
    "print(elementos_alternados)\n",
    "\n",
    "subconjunto_alternado = minha_lista[2:8:2] #do 2 ate o 8 de dois em dois\n",
    "print(subconjunto_alternado)"
   ]
  },
  {
   "cell_type": "markdown",
   "metadata": {},
   "source": [
    "Exercicio"
   ]
  },
  {
   "cell_type": "code",
   "execution_count": 13,
   "metadata": {},
   "outputs": [
    {
     "name": "stdout",
     "output_type": "stream",
     "text": [
      "Cores entre verde e azul: ['verde', 'azul']\n",
      "As duas primeiras cores são: ['vermelho', 'verde']\n",
      "Imprimindo cores a partir do amarelo: ['amarelo', 'laranja', 'roxo', 'marrom', 'cinza']\n",
      "Cores em posição impares: ['vermelho', 'azul', 'laranja', 'marrom']\n",
      "Cores na ordem inversa ['cinza', 'marrom', 'roxo', 'laranja', 'amarelo', 'azul', 'verde', 'vermelho']\n"
     ]
    }
   ],
   "source": [
    "cores = [\"vermelho\", \"verde\", \"azul\", \"amarelo\",\n",
    "         \"laranja\", \"roxo\", \"marrom\", \"cinza\"]\n",
    "subconjuntos = cores[1:3]\n",
    "print(f\"Cores entre verde e azul: {subconjuntos}\")\n",
    "primeiras = cores[:2]\n",
    "print(f\"As duas primeiras cores são: {primeiras}\")\n",
    "a_partir_amarelo = cores[3:]\n",
    "print(f\"Imprimindo cores a partir do amarelo: {a_partir_amarelo}\")\n",
    "cores_impares = cores[::2]\n",
    "print(f\"Cores em posição impares: {cores_impares}\") #a posicao nesse caso nao é zero e sim 1\n",
    "inverso = cores[::-1]\n",
    "print(f\"Cores na ordem inversa {inverso}\")\n",
    "\n"
   ]
  }
 ],
 "metadata": {
  "kernelspec": {
   "display_name": "base",
   "language": "python",
   "name": "python3"
  },
  "language_info": {
   "codemirror_mode": {
    "name": "ipython",
    "version": 3
   },
   "file_extension": ".py",
   "mimetype": "text/x-python",
   "name": "python",
   "nbconvert_exporter": "python",
   "pygments_lexer": "ipython3",
   "version": "3.11.5"
  }
 },
 "nbformat": 4,
 "nbformat_minor": 2
}
