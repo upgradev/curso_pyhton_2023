{
 "cells": [
  {
   "cell_type": "code",
   "execution_count": 3,
   "metadata": {},
   "outputs": [
    {
     "name": "stdout",
     "output_type": "stream",
     "text": [
      "\n",
      "Caixa Eletrônico\n",
      "1 - Verificar Saldo\n",
      "2 - Depositar Dinheiro\n",
      "3 - Sacar\n",
      "4 - Sair\n",
      "Seu Saldo é de: R$ 1000.0\n",
      "\n",
      "Caixa Eletrônico\n",
      "1 - Verificar Saldo\n",
      "2 - Depositar Dinheiro\n",
      "3 - Sacar\n",
      "4 - Sair\n",
      "Deposito de: R$ 500.00 realizado com sucesso!\n",
      "\n",
      "Caixa Eletrônico\n",
      "1 - Verificar Saldo\n",
      "2 - Depositar Dinheiro\n",
      "3 - Sacar\n",
      "4 - Sair\n",
      "Seu Saldo é de: R$ 1500.0\n",
      "\n",
      "Caixa Eletrônico\n",
      "1 - Verificar Saldo\n",
      "2 - Depositar Dinheiro\n",
      "3 - Sacar\n",
      "4 - Sair\n",
      "Saque de: R$ 500.00 realizado com sucesso!\n",
      "\n",
      "Caixa Eletrônico\n",
      "1 - Verificar Saldo\n",
      "2 - Depositar Dinheiro\n",
      "3 - Sacar\n",
      "4 - Sair\n",
      "Seu Saldo é de: R$ 1200.0\n",
      "\n",
      "Caixa Eletrônico\n",
      "1 - Verificar Saldo\n",
      "2 - Depositar Dinheiro\n",
      "3 - Sacar\n",
      "4 - Sair\n",
      "Obrigado por utilizar o nosso caixa eletrônico\n"
     ]
    }
   ],
   "source": [
    "saldo = 1000.00\n",
    "\n",
    "while True:\n",
    "    print(\"\\nCaixa Eletrônico\")\n",
    "    print(\"1 - Verificar Saldo\")\n",
    "    print(\"2 - Depositar Dinheiro\")\n",
    "    print(\"3 - Sacar\")\n",
    "    print(\"4 - Sair\")\n",
    "\n",
    "    opcao  = input(\"Escolha uma opção (1-4) \")\n",
    "\n",
    "    if opcao == \"1\":\n",
    "        print(f\"Seu Saldo é de: R$ {saldo}\")\n",
    "    elif opcao == \"2\":\n",
    "        deposito  = float(input(\"Digite o valor do deposito: R$ \"))\n",
    "        if deposito > 0:\n",
    "            saldo += deposito\n",
    "            print(f\"Deposito de: R$ {deposito:.2f} realizado com sucesso!\")\n",
    "        else:\n",
    "            print(f\"valor de deposito inválido\")\n",
    "    elif opcao == \"3\":\n",
    "        saque  = float(input(\"Digite o valor do saque: R$ \"))\n",
    "        if saque > 0 and saque <= saldo: \n",
    "            saldo -= saque\n",
    "            print(f\"Saque de: R$ {deposito:.2f} realizado com sucesso!\")\n",
    "        else:\n",
    "            print(f\"valor do saque inválido ou saldo insuficiente\")\n",
    "    elif opcao == \"4\":\n",
    "        print(\"Obrigado por utilizar o nosso caixa eletrônico\")\n",
    "\n",
    "        break\n",
    "    else:\n",
    "        print(\"Opção inválida, por favor tente novamente\")\n",
    "        "
   ]
  }
 ],
 "metadata": {
  "kernelspec": {
   "display_name": "base",
   "language": "python",
   "name": "python3"
  },
  "language_info": {
   "codemirror_mode": {
    "name": "ipython",
    "version": 3
   },
   "file_extension": ".py",
   "mimetype": "text/x-python",
   "name": "python",
   "nbconvert_exporter": "python",
   "pygments_lexer": "ipython3",
   "version": "3.11.5"
  }
 },
 "nbformat": 4,
 "nbformat_minor": 2
}
