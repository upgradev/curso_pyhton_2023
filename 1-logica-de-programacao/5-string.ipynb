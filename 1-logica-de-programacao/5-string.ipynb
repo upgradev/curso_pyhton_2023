{
 "cells": [
  {
   "cell_type": "code",
   "execution_count": 4,
   "metadata": {},
   "outputs": [
    {
     "name": "stdout",
     "output_type": "stream",
     "text": [
      "Olá, meu nome é Alice. Tenho 25 anos e minha altura é 1.65 metros.\n"
     ]
    }
   ],
   "source": [
    "nome = \"Alice\"\n",
    "idade = 25\n",
    "altura = 1.65\n",
    "\n",
    "# f\"\" pode utilizar frases e variavel\n",
    "mensagem = f\"Olá, meu nome é {nome}. Tenho {idade} anos e minha altura é {altura:.2f} metros.\"\n",
    "print(mensagem)"
   ]
  },
  {
   "cell_type": "code",
   "execution_count": 9,
   "metadata": {},
   "outputs": [
    {
     "name": "stdout",
     "output_type": "stream",
     "text": [
      "OLÁ, MUNDO!\n",
      "olá, mundo!\n",
      "Olá, mundo!\n",
      "1\n",
      "OLá, amigo!\n"
     ]
    }
   ],
   "source": [
    "# Texto para maiúsculo e minusculo\n",
    "texto = \"OLá, mundo!\"\n",
    "texto_upper = texto.upper()\n",
    "print(texto_upper)\n",
    "texto_lower = texto.lower()\n",
    "print(texto_lower)\n",
    "\n",
    "# apenas a primeira maiuscula\n",
    "texto_capitalize = texto.capitalize()\n",
    "print(texto_capitalize)\n",
    "\n",
    "# verifica quantas letras tem q vc indicou\n",
    "ocorrencias = texto.count(\"o\")\n",
    "print(ocorrencias)\n",
    "\n",
    "# substitui a palavra q quer\n",
    "texto_substituido = texto.replace(\"mundo\", \"amigo\")\n",
    "print(texto_substituido)"
   ]
  },
  {
   "cell_type": "code",
   "execution_count": 16,
   "metadata": {},
   "outputs": [
    {
     "name": "stdout",
     "output_type": "stream",
     "text": [
      "Maria Silva\n",
      "Olá meu nome é Maria Silva e tenho 30 anos\n"
     ]
    }
   ],
   "source": [
    "# 1. Crie uma variável chamada nome e atribua a ela o valor Maria\n",
    "\n",
    "nome = \"Maria\"\n",
    "\n",
    "# 2. Crie uma variavel chamada sobrenome e  atribua a ela o valor de Silva\n",
    "\n",
    "sobrenome = \"Silva\"\n",
    "\n",
    "# 3. Crie uma vabriavel chamada idade e atribua a ela o valor de 30\n",
    "\n",
    "idade = 30\n",
    "\n",
    "# 4. Concatene as variaveis nome e sobrenome em uma nova variavel chamada nome_completo\n",
    "\n",
    "nome_completo = nome + \" \" + sobrenome\n",
    "\n",
    "# 5. Imprima na tela o valor da variavel nome_completo\n",
    "\n",
    "print(nome_completo)\n",
    "\n",
    "# 6. Crie uma variavel chamada mensagem que utilize a função format para criar uma frase personalizada com as variaveis nome_completo e idade\n",
    "\n",
    "mensagem = f\"Olá meu nome é {nome_completo} e tenho {idade} anos\"\n",
    "\n",
    "# 7. Imprima na tela o valor da variavel mensagem\n",
    "\n",
    "print(mensagem)"
   ]
  },
  {
   "cell_type": "code",
   "execution_count": 22,
   "metadata": {},
   "outputs": [
    {
     "name": "stdout",
     "output_type": "stream",
     "text": [
      "Tamanho da frase é : 57\n",
      "Primeira palavra da frase:  Python\n",
      "Frase em letra maiuscula:  PYTHON É UMA LINGUAGEM DE PROGRAMAÇÃO PODEROSA E VERSATIL\n",
      "Frase nova substituida:  Python é uma linguagem de programação incrivel e versatil\n"
     ]
    }
   ],
   "source": [
    "# 1. Crie uma variavel chamada \"frase\" e atribua a ela a seguinte frase: \"Python é uma linguagem de programação poderosa e versatil\"\n",
    "\n",
    "frase = \"Python é uma linguagem de programação poderosa e versatil\"\n",
    "\n",
    "# 2. Imprima na tela o tamanho da frase, ou seja, a quantidade de caracteres presentes nela\n",
    "\n",
    "print(\"Tamanho da frase é :\", len(frase))\n",
    "\n",
    "# 3. Crie uma variavel chamada \"palavra\" e atribua a ela a primeira palavra frase\n",
    "\n",
    "palavra = frase.split()[0]\n",
    "print(\"Primeira palavra da frase: \", palavra)\n",
    "\n",
    "# 4. Converta a variavel \"frase\" para letras maiúsculas e atribua o resultado a uma nova variável chamada \"frase_maiuscula\"\n",
    "\n",
    "frase_maiuscula = frase.upper()\n",
    "print(\"Frase em letra maiuscula: \", frase_maiuscula)\n",
    "\n",
    "# 5. Substitua a palavra \"poderosa\" por \"incrivel\" na variavel \"frase\" e atribua o resultado a uma nova varivael chamada \"frase_substituida\"\n",
    "frase_substituida  = frase.replace(\"poderosa\", \"incrivel\")\n",
    "print(\"Frase nova substituida: \", frase_substituida)"
   ]
  }
 ],
 "metadata": {
  "kernelspec": {
   "display_name": "base",
   "language": "python",
   "name": "python3"
  },
  "language_info": {
   "codemirror_mode": {
    "name": "ipython",
    "version": 3
   },
   "file_extension": ".py",
   "mimetype": "text/x-python",
   "name": "python",
   "nbconvert_exporter": "python",
   "pygments_lexer": "ipython3",
   "version": "3.11.5"
  }
 },
 "nbformat": 4,
 "nbformat_minor": 2
}
