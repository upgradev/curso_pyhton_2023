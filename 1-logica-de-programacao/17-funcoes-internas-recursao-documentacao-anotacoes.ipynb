{
 "cells": [
  {
   "cell_type": "code",
   "execution_count": 6,
   "metadata": {},
   "outputs": [
    {
     "name": "stdout",
     "output_type": "stream",
     "text": [
      "Olá, Maria\n",
      "3\n",
      "Seu nome é: Maria\n",
      "7\n",
      "5.6\n",
      "123\n"
     ]
    }
   ],
   "source": [
    "nome = \"Maria\"\n",
    "print(f\"Olá, {nome}\")\n",
    "\n",
    "lista = [1, 2, 3]\n",
    "print(len(lista))\n",
    "\n",
    "# nome = input(\"Digite seu nome: \")\n",
    "print(f\"Seu nome é: {nome}\")\n",
    "\n",
    "numero_decimal = \"7.9\"\n",
    "numero_inteiro = int(float(numero_decimal))\n",
    "print(numero_inteiro)\n",
    "\n",
    "# float \n",
    "numero_str = \"5.6\"\n",
    "numero_float = float(numero_str)\n",
    "print(numero_float)\n",
    "\n",
    "# string str()\n",
    "numero = 123\n",
    "numero_str = str(numero)\n",
    "print(numero_str)"
   ]
  },
  {
   "cell_type": "code",
   "execution_count": 8,
   "metadata": {},
   "outputs": [
    {
     "name": "stdout",
     "output_type": "stream",
     "text": [
      "5\n",
      "4\n",
      "3\n",
      "2\n",
      "1\n",
      "120\n"
     ]
    }
   ],
   "source": [
    "# Recursão\n",
    "# função que chama a si mesmo\n",
    "\n",
    "# 1 - Funções recursivas\n",
    "def contar_regressivamente(n):\n",
    "    if n > 0:\n",
    "        print(n)\n",
    "        contar_regressivamente(n-1)\n",
    "contar_regressivamente(5)\n",
    "\n",
    "# Fatorial\n",
    "def fatorial(n):\n",
    "    if n == 0:\n",
    "        return 1\n",
    "    else:\n",
    "        return n * fatorial(n - 1)\n",
    "print(fatorial(5))\n",
    "\n",
    "# riscos e limitações da recusão em python\n",
    "# def recursao_infinita(n):\n",
    "#     print(n)\n",
    "#     recursao_infinita(n + 1)\n",
    "# recursao_infinita(1)"
   ]
  },
  {
   "cell_type": "code",
   "execution_count": 17,
   "metadata": {},
   "outputs": [
    {
     "name": "stdout",
     "output_type": "stream",
     "text": [
      "5\n",
      "\n",
      "Função que retorn a soma de dois numeros\n",
      "    \n",
      "20.8\n"
     ]
    }
   ],
   "source": [
    "# Documentação e anotações de funções\n",
    "# Docstrings\n",
    "# Anotações de tipos (Type Hints)\n",
    "\n",
    "# Exemplo\n",
    "def somar(a, b):\n",
    "    \"\"\"\n",
    "Função que retorn a soma de dois numeros\n",
    "    \"\"\"\n",
    "    return a + b\n",
    "print(somar(2, 3))\n",
    "print(somar.__doc__)\n",
    "\n",
    "def multiplicar(a: int, b: int) -> int:\n",
    "    return a * b\n",
    "\n",
    "print(multiplicar(4, 5))    "
   ]
  }
 ],
 "metadata": {
  "kernelspec": {
   "display_name": "Python 3",
   "language": "python",
   "name": "python3"
  },
  "language_info": {
   "codemirror_mode": {
    "name": "ipython",
    "version": 3
   },
   "file_extension": ".py",
   "mimetype": "text/x-python",
   "name": "python",
   "nbconvert_exporter": "python",
   "pygments_lexer": "ipython3",
   "version": "3.11.5"
  }
 },
 "nbformat": 4,
 "nbformat_minor": 2
}
