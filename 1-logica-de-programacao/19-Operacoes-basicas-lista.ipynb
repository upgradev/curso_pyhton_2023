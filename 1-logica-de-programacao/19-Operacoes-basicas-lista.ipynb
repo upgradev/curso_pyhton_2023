{
 "cells": [
  {
   "cell_type": "markdown",
   "metadata": {},
   "source": [
    "Operações Básicas com listas\n",
    "Adicionar elemento: append(), insert()\n",
    "Remover elementos: remove(), pop()\n",
    "Concatenar listas: +, extend()\n",
    "repetir listas: *\n",
    "Verificar se um item ista na lista: in"
   ]
  },
  {
   "cell_type": "code",
   "execution_count": 4,
   "metadata": {},
   "outputs": [
    {
     "name": "stdout",
     "output_type": "stream",
     "text": [
      "['maça', 'banana', 'cereja']\n",
      "['maça', 'abacate', 'banana', 'cereja']\n"
     ]
    }
   ],
   "source": [
    "# Adicionar elemento: append(), insert()\n",
    "frutas = [\"maça\", \"banana\"]\n",
    "frutas.append(\"cereja\") # Adiciona no final da lista\n",
    "print(frutas)\n",
    "\n",
    "frutas = ['maça', 'banana', 'cereja']\n",
    "frutas.insert(1, \"abacate\") # em uma posição especifica\n",
    "print(frutas)\n"
   ]
  },
  {
   "cell_type": "code",
   "execution_count": 11,
   "metadata": {},
   "outputs": [
    {
     "name": "stdout",
     "output_type": "stream",
     "text": [
      "['maça', 'cereja']\n",
      "['maça', 'banana']\n"
     ]
    }
   ],
   "source": [
    "# Remover elementos: remove(), pop()\n",
    "frutas = ['maça', 'banana', 'cereja']\n",
    "frutas.remove('banana') # remove o primeiro item da lista que foi dito\n",
    "print(frutas)\n",
    "\n",
    "frutas = ['maça', 'banana', 'cereja']\n",
    "# frutas.pop() # remove o ultimo item da lista se não tiver indice\n",
    "frutas.pop(2) # remove o item do indice que passou\n",
    "print(frutas)\n"
   ]
  },
  {
   "cell_type": "code",
   "execution_count": 14,
   "metadata": {},
   "outputs": [
    {
     "name": "stdout",
     "output_type": "stream",
     "text": [
      "[1, 2, 3, 4, 5, 6]\n",
      "[1, 2, 3, 4, 5, 6]\n"
     ]
    }
   ],
   "source": [
    "# Concatenar listas: +, extend()\n",
    "lista1 = [1, 2, 3]\n",
    "lista2 = [4, 5, 6]\n",
    "uniao = lista1 + lista2\n",
    "print(uniao) # Une as listas\n",
    "\n",
    "lista1 = [1, 2, 3]\n",
    "lista2 = [4, 5, 6]\n",
    "lista1.extend(lista2) # adiciona elementos de uma lista ao final da lista atual\n",
    "print(lista1)"
   ]
  },
  {
   "cell_type": "code",
   "execution_count": 19,
   "metadata": {},
   "outputs": [
    {
     "name": "stdout",
     "output_type": "stream",
     "text": [
      "['a', 'b']\n",
      "['a', 'b', 'a', 'b', 'a', 'b']\n"
     ]
    }
   ],
   "source": [
    "# repetir listas: *\n",
    "repeticao = [\"a\", \"b\"] \n",
    "print(repeticao)\n",
    "repeticao = [\"a\", \"b\"] * 3\n",
    "print(repeticao)"
   ]
  },
  {
   "cell_type": "code",
   "execution_count": 21,
   "metadata": {},
   "outputs": [
    {
     "name": "stdout",
     "output_type": "stream",
     "text": [
      "True\n",
      "False\n"
     ]
    }
   ],
   "source": [
    "# Verificar se um item ista na lista: in\n",
    "frutas = ['maça', 'banana', 'cereja']\n",
    "print(\"banana\" in frutas)\n",
    "print(\"uva\" in frutas)"
   ]
  },
  {
   "cell_type": "markdown",
   "metadata": {},
   "source": [
    "Exercicio: Operações basicas"
   ]
  },
  {
   "cell_type": "code",
   "execution_count": 33,
   "metadata": {},
   "outputs": [
    {
     "name": "stdout",
     "output_type": "stream",
     "text": [
      "['gato', 'cachorro', 'pássaro']\n",
      "['gato', 'peixe', 'cachorro', 'pássaro']\n",
      "['peixe', 'cachorro', 'pássaro']\n",
      "pássaro\n",
      "['peixe', 'cachorro']\n",
      "['tartaruga', 'hamster']\n",
      "['peixe', 'cachorro', 'tartaruga', 'hamster']\n",
      "['peixe', 'cachorro', 'tartaruga', 'hamster', 'peixe', 'cachorro', 'tartaruga', 'hamster']\n",
      "cachorro esta na lista\n"
     ]
    }
   ],
   "source": [
    "animais = []\n",
    "animais.append(\"gato\")\n",
    "animais.append(\"cachorro\")\n",
    "animais.append(\"pássaro\")\n",
    "print(animais)\n",
    "animais.insert(1, \"peixe\")\n",
    "print(animais)\n",
    "animais.remove(\"gato\")\n",
    "print(animais)\n",
    "animal_removido = animais.pop()\n",
    "print(animal_removido)\n",
    "print(animais)\n",
    "novos_animais = [\"tartaruga\", \"hamster\"]\n",
    "print(novos_animais)\n",
    "todos_animais = animais+novos_animais\n",
    "print(todos_animais)\n",
    "animais_duplicados = todos_animais * 2\n",
    "print(animais_duplicados)\n",
    "\n",
    "if \"cachorro\" in todos_animais:\n",
    "    print(\"cachorro esta na lista\")\n",
    "else:\n",
    "    print(\"cachorro não esta na lista\")\n"
   ]
  }
 ],
 "metadata": {
  "kernelspec": {
   "display_name": "base",
   "language": "python",
   "name": "python3"
  },
  "language_info": {
   "codemirror_mode": {
    "name": "ipython",
    "version": 3
   },
   "file_extension": ".py",
   "mimetype": "text/x-python",
   "name": "python",
   "nbconvert_exporter": "python",
   "pygments_lexer": "ipython3",
   "version": "3.11.5"
  }
 },
 "nbformat": 4,
 "nbformat_minor": 2
}
