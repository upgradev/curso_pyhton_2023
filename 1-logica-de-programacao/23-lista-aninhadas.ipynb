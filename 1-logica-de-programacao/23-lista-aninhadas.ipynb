{
 "cells": [
  {
   "cell_type": "markdown",
   "metadata": {},
   "source": [
    "Listas Aninhadas\n",
    "ou lista de listas, são basicamente listas que tem outras listas como seus elementos. Elas são uteis em muitas situações\n",
    "especialmente ao representar estruturas bidimensionais como matrizes"
   ]
  },
  {
   "cell_type": "code",
   "execution_count": 3,
   "metadata": {},
   "outputs": [
    {
     "name": "stdout",
     "output_type": "stream",
     "text": [
      "5\n",
      "1 2 3 \n",
      "4 5 6 \n",
      "7 8 9 \n"
     ]
    }
   ],
   "source": [
    "# Lista Aninhadas\n",
    "matriz = [\n",
    "    [1, 2, 3],\n",
    "    [4, 5, 6],\n",
    "    [7, 8, 9]\n",
    "]\n",
    "\n",
    "elemento = matriz[1][1]\n",
    "print(elemento)\n",
    "\n",
    "# loop externo: itera sobre cada linha da matriz\n",
    "for linha in matriz:\n",
    "    for coluna in linha:\n",
    "        print(coluna, end=' ')\n",
    "    print()\n"
   ]
  },
  {
   "cell_type": "code",
   "execution_count": 6,
   "metadata": {},
   "outputs": [
    {
     "name": "stdout",
     "output_type": "stream",
     "text": [
      "[[1, 4, 7], [2, 5, 8], [3, 6, 9]]\n"
     ]
    }
   ],
   "source": [
    "transposta = []\n",
    "for i in range(len(matriz[0])):\n",
    "    linha_temporaria = []\n",
    "    for j in range(len(matriz)):\n",
    "        linha_temporaria.append(matriz[j][i])\n",
    "    transposta.append(linha_temporaria)\n",
    "print(transposta)"
   ]
  },
  {
   "cell_type": "markdown",
   "metadata": {},
   "source": [
    "Exercício"
   ]
  },
  {
   "cell_type": "code",
   "execution_count": 11,
   "metadata": {},
   "outputs": [
    {
     "name": "stdout",
     "output_type": "stream",
     "text": [
      "Elementos na segunda linha e terceira coluna: 6\n",
      "Soma de todos os elementos: 45\n",
      "1\t2\t3\t\n",
      "4\t5\t6\t\n",
      "7\t8\t9\t\n"
     ]
    }
   ],
   "source": [
    "matriz = [\n",
    "    [1, 2, 3],\n",
    "    [4, 5, 6],\n",
    "    [7, 8, 9]\n",
    "]\n",
    "\n",
    "elemento = matriz[1][2]\n",
    "soma = 0\n",
    "print(f\"Elementos na segunda linha e terceira coluna: {elemento}\")\n",
    "for linha in matriz:\n",
    "    for coluna in linha:\n",
    "        soma += coluna\n",
    "print(f\"Soma de todos os elementos: {soma}\")\n",
    "\n",
    "for linha in matriz:\n",
    "    for coluna in linha:\n",
    "        print(coluna, end=\"\\t\") #imprimir com tabulação\n",
    "    print()"
   ]
  }
 ],
 "metadata": {
  "kernelspec": {
   "display_name": "base",
   "language": "python",
   "name": "python3"
  },
  "language_info": {
   "codemirror_mode": {
    "name": "ipython",
    "version": 3
   },
   "file_extension": ".py",
   "mimetype": "text/x-python",
   "name": "python",
   "nbconvert_exporter": "python",
   "pygments_lexer": "ipython3",
   "version": "3.11.5"
  }
 },
 "nbformat": 4,
 "nbformat_minor": 2
}
