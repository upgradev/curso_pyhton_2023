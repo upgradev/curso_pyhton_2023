{
 "cells": [
  {
   "cell_type": "markdown",
   "metadata": {},
   "source": [
    "Metodos de lista\n",
    "sort(): ordena a lista in-place\n",
    "reverse(): inverte a ordem dos elementos in-place\n",
    "count(): conta o numero de ocorrencias de um elemento\n",
    "index() retorna o índice da primeira ocorrência de um elemento"
   ]
  },
  {
   "cell_type": "code",
   "execution_count": 9,
   "metadata": {},
   "outputs": [
    {
     "name": "stdout",
     "output_type": "stream",
     "text": [
      "[23, 1, 45, 6, 12]\n",
      "[1, 6, 12, 23, 45]\n",
      "[45, 23, 12, 6, 1]\n",
      "\n",
      "['banana', 'maça', 'banana', 'cereja', 'maça', 'damasco']\n",
      "['banana', 'banana', 'cereja', 'damasco', 'maça', 'maça']\n",
      "\n",
      "[1, 6, 12, 23, 45]\n",
      "['maça', 'maça', 'damasco', 'cereja', 'banana', 'banana']\n"
     ]
    }
   ],
   "source": [
    "numeros = [23, 1, 45, 6, 12]\n",
    "frutas = [\"banana\", \"maça\", \"banana\", \"cereja\", \"maça\", \"damasco\"]\n",
    "\n",
    "# sort\n",
    "print(numeros)\n",
    "numeros.sort()\n",
    "print(numeros)\n",
    "numeros.sort(reverse=True) # ordem decrescente\n",
    "print(numeros)\n",
    "print()\n",
    "\n",
    "print(frutas)\n",
    "frutas.sort()\n",
    "print(frutas)\n",
    "print()\n",
    "\n",
    "# reverse\n",
    "numeros.reverse()\n",
    "print(numeros)\n",
    "\n",
    "frutas.reverse()\n",
    "print(frutas)"
   ]
  },
  {
   "cell_type": "code",
   "execution_count": 11,
   "metadata": {},
   "outputs": [
    {
     "name": "stdout",
     "output_type": "stream",
     "text": [
      "2\n",
      "1\n"
     ]
    }
   ],
   "source": [
    "#count\n",
    "ocorrencias_banana = frutas.count(\"banana\")\n",
    "print(ocorrencias_banana)\n",
    "\n",
    "ocorrencias_numero_6 = numeros.count(6)\n",
    "print(ocorrencias_numero_6)"
   ]
  },
  {
   "cell_type": "code",
   "execution_count": 13,
   "metadata": {},
   "outputs": [
    {
     "name": "stdout",
     "output_type": "stream",
     "text": [
      "4\n",
      "3\n"
     ]
    }
   ],
   "source": [
    "# index\n",
    "indice_banana = frutas.index(\"banana\")\n",
    "print(indice_banana)\n",
    "\n",
    "indice_23 = numeros.index(23)\n",
    "print(indice_23)"
   ]
  },
  {
   "cell_type": "markdown",
   "metadata": {},
   "source": [
    "Exercício"
   ]
  },
  {
   "cell_type": "code",
   "execution_count": 24,
   "metadata": {},
   "outputs": [
    {
     "name": "stdout",
     "output_type": "stream",
     "text": [
      "[11, 11, 23, 23, 34, 45, 56, 78, 89, 90]\n",
      "[90, 89, 78, 56, 45, 34, 23, 23, 11, 11]\n",
      "2\n",
      "2\n",
      "O numero nao está na lista!\n"
     ]
    }
   ],
   "source": [
    "valores = [23, 11, 89, 34, 11, 56, 78, 90, 23, 45]\n",
    "# ordernar em ordem crescente\n",
    "valores.sort()\n",
    "print(valores)\n",
    "# inverter a lista\n",
    "valores.reverse()\n",
    "print(valores)\n",
    "# qts vezes o numero 11 aparece na lista\n",
    "numero_11 = valores.count(11)\n",
    "print(numero_11)\n",
    "indice_78 = valores.index(78)\n",
    "print(indice_78)\n",
    "try:    \n",
    "    indice_nao_existe = numeros.index(100)\n",
    "    print(indice_nao_existe)\n",
    "except ValueError:\n",
    "    print(\"O numero nao está na lista!\")"
   ]
  }
 ],
 "metadata": {
  "kernelspec": {
   "display_name": "base",
   "language": "python",
   "name": "python3"
  },
  "language_info": {
   "codemirror_mode": {
    "name": "ipython",
    "version": 3
   },
   "file_extension": ".py",
   "mimetype": "text/x-python",
   "name": "python",
   "nbconvert_exporter": "python",
   "pygments_lexer": "ipython3",
   "version": "3.11.5"
  }
 },
 "nbformat": 4,
 "nbformat_minor": 2
}
