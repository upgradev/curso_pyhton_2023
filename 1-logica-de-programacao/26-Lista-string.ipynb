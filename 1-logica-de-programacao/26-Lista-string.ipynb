{
 "cells": [
  {
   "cell_type": "markdown",
   "metadata": {},
   "source": [
    "Listas e strings\n",
    "conversão de strings para listas: list(), split()\n",
    "conversão de listas para strings: join()"
   ]
  },
  {
   "cell_type": "code",
   "execution_count": 13,
   "metadata": {},
   "outputs": [
    {
     "name": "stdout",
     "output_type": "stream",
     "text": [
      "['O', 'l', 'á']\n",
      "['Python', 'é', 'divertido']\n",
      "['12', '10', '2023']\n",
      "\n",
      "['Python', 'é', 'incrível']\n",
      "Python é incrível\n",
      "\n",
      "['25', '12', '2023']\n",
      "25/12/2023\n"
     ]
    }
   ],
   "source": [
    "# exemplo prático\n",
    "# conversão de strings para listas:\n",
    "# Usando list\n",
    "\n",
    "s = \"Olá\"\n",
    "lista_s = list(s)\n",
    "print(lista_s)\n",
    "\n",
    "# split\n",
    "frase = \"Python é divertido\"\n",
    "palavras = frase.split()\n",
    "print(palavras)\n",
    "\n",
    "data = \"12/10/2023\"\n",
    "elementos_data = data.split(\"/\")\n",
    "print(elementos_data)\n",
    "print()\n",
    "\n",
    "# conversão de lista para string\n",
    "# join\n",
    "lista_palavras = ['Python', 'é', 'incrível']\n",
    "print(lista_palavras)\n",
    "frase_juntada = ' '.join(lista_palavras)\n",
    "print(frase_juntada)\n",
    "print()\n",
    "\n",
    "lista_data = [\"25\", \"12\", \"2023\"]\n",
    "data_juntada = \"/\".join(lista_data)\n",
    "print(lista_data)\n",
    "print(data_juntada)"
   ]
  },
  {
   "cell_type": "markdown",
   "metadata": {},
   "source": [
    "Exercício"
   ]
  },
  {
   "cell_type": "code",
   "execution_count": 18,
   "metadata": {},
   "outputs": [
    {
     "name": "stdout",
     "output_type": "stream",
     "text": [
      "['P', 'y', 't', 'h', 'o', 'n']\n",
      "\n",
      "['Aprendendo', 'Python', 'é', 'divertido']\n",
      "Aprendendo Python é divertido\n",
      "\n",
      "maçã, banana, cereja\n"
     ]
    }
   ],
   "source": [
    "# Dada uma string  palavra = \"Python\", converta para uma lista de caracteres e imprima a lista resultante\n",
    "# Dada a frase frase = \"Aprendendo Python é divertido\" divida-a em uma lista de palavras e imprima a lista resultante\n",
    "# Usando a lista do passo 2, junte as palavras para formar a frase original novamente e imprima-a\n",
    "# Dada a lista itens = [\"maçã\", \"banana\", \"cereja\"] converta-a em uma string onde cada item é seprarado por uma virguma e um espaço e imprima a string resultante\n",
    "\n",
    "palavra = \"Python\"\n",
    "lista_caracteres = list(palavra)\n",
    "print(lista_caracteres)\n",
    "print()\n",
    "frase = \"Aprendendo Python é divertido\"\n",
    "lista_palavras = frase.split()\n",
    "print(lista_palavras)\n",
    "frase_original = \" \".join(lista_palavras)\n",
    "print(frase_original)\n",
    "print()\n",
    "\n",
    "itens = [\"maçã\", \"banana\", \"cereja\"]\n",
    "itens_separados = \", \".join(itens)\n",
    "print(itens_separados)"
   ]
  }
 ],
 "metadata": {
  "kernelspec": {
   "display_name": "base",
   "language": "python",
   "name": "python3"
  },
  "language_info": {
   "codemirror_mode": {
    "name": "ipython",
    "version": 3
   },
   "file_extension": ".py",
   "mimetype": "text/x-python",
   "name": "python",
   "nbconvert_exporter": "python",
   "pygments_lexer": "ipython3",
   "version": "3.11.5"
  }
 },
 "nbformat": 4,
 "nbformat_minor": 2
}
