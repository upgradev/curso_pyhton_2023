{
 "cells": [
  {
   "cell_type": "code",
   "execution_count": 3,
   "metadata": {},
   "outputs": [
    {
     "name": "stdout",
     "output_type": "stream",
     "text": [
      "Nome:  João Silva\n",
      "Telefone:  123-456-7890\n"
     ]
    }
   ],
   "source": [
    "contato = (\"João Silva\", \"123-456-7890\", \"joão.silva@teste.com\")\n",
    "nome = contato[0]\n",
    "telefone = contato[1]\n",
    "print(\"Nome: \", nome)\n",
    "print(\"Telefone: \", telefone)"
   ]
  },
  {
   "cell_type": "code",
   "execution_count": 4,
   "metadata": {},
   "outputs": [
    {
     "name": "stdout",
     "output_type": "stream",
     "text": [
      "('João Silva', '123-456-7890')\n"
     ]
    }
   ],
   "source": [
    "# fatiamento de tuplas\n",
    "info_relevantes = contato[:2]\n",
    "print(info_relevantes)"
   ]
  },
  {
   "cell_type": "markdown",
   "metadata": {},
   "source": [
    "Exercicio"
   ]
  },
  {
   "cell_type": "code",
   "execution_count": 4,
   "metadata": {},
   "outputs": [
    {
     "name": "stdout",
     "output_type": "stream",
     "text": [
      "('Laptop', 10, 1500)\n",
      "Produto: Laptop\n",
      "Qtde Estoque: 10\n",
      "Informações relevantes: ('Laptop', 10)\n"
     ]
    }
   ],
   "source": [
    "produto = (\"Laptop\", 10, 1500)\n",
    "nome_produto = produto[0]\n",
    "qtde_estoque = produto[1]\n",
    "print(produto)\n",
    "print(f\"Produto: {nome_produto}\")\n",
    "print(f\"Qtde Estoque: {qtde_estoque}\")\n",
    "\n",
    "info_relevantes = produto[:2]\n",
    "print(f\"Informações relevantes: {info_relevantes}\")\n",
    "\n"
   ]
  }
 ],
 "metadata": {
  "kernelspec": {
   "display_name": "base",
   "language": "python",
   "name": "python3"
  },
  "language_info": {
   "codemirror_mode": {
    "name": "ipython",
    "version": 3
   },
   "file_extension": ".py",
   "mimetype": "text/x-python",
   "name": "python",
   "nbconvert_exporter": "python",
   "pygments_lexer": "ipython3",
   "version": "3.11.5"
  }
 },
 "nbformat": 4,
 "nbformat_minor": 2
}
