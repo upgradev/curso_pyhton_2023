{
 "cells": [
  {
   "cell_type": "markdown",
   "metadata": {},
   "source": [
    "Utilidades e funções com listas\n",
    "len(): retorna o número de elementos na lista\n",
    "max(): retorna o maior numero\n",
    "min(): retorna o menor número\n",
    "sum(): retorna s asoma dos elementos"
   ]
  },
  {
   "cell_type": "code",
   "execution_count": 5,
   "metadata": {},
   "outputs": [
    {
     "name": "stdout",
     "output_type": "stream",
     "text": [
      "O número de elementos na lista é: 7\n",
      "O maior valor na lista  é: 15\n",
      "O menor valor na lista é: 2\n",
      "A soma dos elementos na lista é: 55\n"
     ]
    }
   ],
   "source": [
    "# exemplo prático\n",
    "numeros = [6, 3, 8, 15, 2, 7, 14]\n",
    "tamanho = len(numeros)\n",
    "print(f\"O número de elementos na lista é: {tamanho}\")\n",
    "\n",
    "maior_valor = max(numeros)\n",
    "print(f\"O maior valor na lista  é: {maior_valor}\")\n",
    "\n",
    "menor_valor = min(numeros)\n",
    "print(f\"O menor valor na lista é: {menor_valor}\")\n",
    "\n",
    "soma_total = sum(numeros)\n",
    "print(f\"A soma dos elementos na lista é: {soma_total}\")\n"
   ]
  },
  {
   "cell_type": "markdown",
   "metadata": {},
   "source": [
    "Exercício"
   ]
  },
  {
   "cell_type": "code",
   "execution_count": 11,
   "metadata": {},
   "outputs": [
    {
     "name": "stdout",
     "output_type": "stream",
     "text": [
      "Número de elementos é: 10\n",
      "O maior valor na lista é: 90\n",
      "O menor valor na lista é: 12\n",
      "A soma de todos os valores é: 550\n",
      "[58.5, 63.2, 71.3, 69.4, 68.2]\n",
      "A média de peso é: 66.12\n"
     ]
    }
   ],
   "source": [
    "valores = [23, 45, 67, 89, 12, 56, 78, 90, 34, 56]\n",
    "numero_elementos = len(valores)\n",
    "print(f\"Número de elementos é: {numero_elementos}\")\n",
    "maior_valor = max(valores)\n",
    "menor_valor = min(valores)\n",
    "print(f\"O maior valor na lista é: {maior_valor}\")\n",
    "print(f\"O menor valor na lista é: {menor_valor}\")\n",
    "soma = sum(valores)\n",
    "print(f\"A soma de todos os valores é: {soma}\")\n",
    "\n",
    "lista_peso = [58.5, 63.2, 71.3, 69.4, 68.2]\n",
    "print(lista_peso)\n",
    "media_peso = sum(lista_peso) / len(lista_peso)\n",
    "print(f\"A média de peso é: {media_peso:.2f}\")"
   ]
  }
 ],
 "metadata": {
  "kernelspec": {
   "display_name": "base",
   "language": "python",
   "name": "python3"
  },
  "language_info": {
   "codemirror_mode": {
    "name": "ipython",
    "version": 3
   },
   "file_extension": ".py",
   "mimetype": "text/x-python",
   "name": "python",
   "nbconvert_exporter": "python",
   "pygments_lexer": "ipython3",
   "version": "3.1.0"
  }
 },
 "nbformat": 4,
 "nbformat_minor": 2
}
