{
 "cells": [
  {
   "cell_type": "markdown",
   "metadata": {},
   "source": [
    "Métodos de tuplas:\n",
    "    count(): conta o numero de vezes que um elemento apareceu na tupla\n",
    "    index(): retorna o indice do primeiro elemento que corresponde ao valor especificado"
   ]
  },
  {
   "cell_type": "code",
   "execution_count": 4,
   "metadata": {},
   "outputs": [
    {
     "name": "stdout",
     "output_type": "stream",
     "text": [
      "O produto 101 foi vendido 3 vezes\n"
     ]
    }
   ],
   "source": [
    "# 1. Uso do metodo count\n",
    "\n",
    "vendas = (101, 102, 103, 101, 102, 101, 104)\n",
    "vendas_produto_101 = vendas.count(101)\n",
    "print(f\"O produto 101 foi vendido {vendas_produto_101} vezes\")\n"
   ]
  },
  {
   "cell_type": "code",
   "execution_count": 6,
   "metadata": {},
   "outputs": [
    {
     "name": "stdout",
     "output_type": "stream",
     "text": [
      "O primeiro dia do 103 é 3\n"
     ]
    }
   ],
   "source": [
    "# uso do metodo index\n",
    "vendas = (101, 102, 103, 101, 102, 101, 104)\n",
    "primeiro_dia_venda_103 = vendas.index(103) + 1\n",
    "print(f\"O primeiro dia do 103 é {primeiro_dia_venda_103}\")"
   ]
  },
  {
   "cell_type": "markdown",
   "metadata": {},
   "source": [
    "Exercicio"
   ]
  },
  {
   "cell_type": "code",
   "execution_count": 8,
   "metadata": {},
   "outputs": [
    {
     "name": "stdout",
     "output_type": "stream",
     "text": [
      "5\n",
      "11\n"
     ]
    }
   ],
   "source": [
    "avaliacoes = (5, 4, 4, 3, 5, 2, 4, 3, 5, 5, 1, 4, 3, 5, 2)\n",
    "qtde_avaliacoes_5_estrelas = avaliacoes.count(5)\n",
    "print(qtde_avaliacoes_5_estrelas)\n",
    "\n",
    "primeira_posicao_1_estrelas = avaliacoes.index(1)+1\n",
    "print(primeira_posicao_1_estrelas)"
   ]
  }
 ],
 "metadata": {
  "kernelspec": {
   "display_name": "base",
   "language": "python",
   "name": "python3"
  },
  "language_info": {
   "codemirror_mode": {
    "name": "ipython",
    "version": 3
   },
   "file_extension": ".py",
   "mimetype": "text/x-python",
   "name": "python",
   "nbconvert_exporter": "python",
   "pygments_lexer": "ipython3",
   "version": "3.11.5"
  }
 },
 "nbformat": 4,
 "nbformat_minor": 2
}
