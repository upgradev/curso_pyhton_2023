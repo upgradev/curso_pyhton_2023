{
 "cells": [
  {
   "cell_type": "code",
   "execution_count": null,
   "metadata": {},
   "outputs": [],
   "source": [
    "# Intrudução as Listas\n",
    "\"\"\"\n",
    "Listas são uma das estruturas de dados mais fundamentais em Python. Elas são\n",
    "coleções ordenadas de itens (que podem ser de qualquer tipo) e são muito versateis\n",
    "\"\"\""
   ]
  },
  {
   "cell_type": "code",
   "execution_count": 9,
   "metadata": {},
   "outputs": [
    {
     "name": "stdout",
     "output_type": "stream",
     "text": [
      "[85, 90, 78, 92, 88]\n",
      "<class 'int'>\n",
      "<class 'list'>\n",
      "<class 'str'>\n",
      "['Olá', 'mundo']\n",
      "<class 'list'>\n",
      "[100, 2, 3]\n",
      "(1, 2, 3)\n"
     ]
    }
   ],
   "source": [
    "notas_aluno = [85, 90, 78, 92, 88]\n",
    "print(notas_aluno)\n",
    "\n",
    "numero = 5\n",
    "print(type(numero))\n",
    "\n",
    "lista_de_numeros = [5, 10, 15]\n",
    "print(type(lista_de_numeros))\n",
    "\n",
    "mensagem = \"Olá\"\n",
    "print(type(mensagem))\n",
    "\n",
    "lista_de_string = [\"Olá\", \"mundo\"]\n",
    "print(lista_de_string)\n",
    "print(type(lista_de_string))\n",
    "\n",
    "lista = [1, 2, 3]\n",
    "lista[0] = 100\n",
    "print(lista)\n",
    "\n",
    "tupla = (1,2,3)\n",
    "#tupla[0] = 100 #Isso gera um erro é imutavel\n",
    "print(tupla)"
   ]
  },
  {
   "cell_type": "markdown",
   "metadata": {},
   "source": [
    "Criando e Acessando Listas"
   ]
  },
  {
   "cell_type": "code",
   "execution_count": 16,
   "metadata": {},
   "outputs": [
    {
     "name": "stdout",
     "output_type": "stream",
     "text": [
      "[10, 20, 30, 40, 50]\n",
      "['maça', 'banana', 'cereja']\n",
      "[10, 'Olá', 2.5, ['a', 'b'], True]\n",
      "cereja\n",
      "damasco\n",
      "cereja\n"
     ]
    }
   ],
   "source": [
    "numeros = [10, 20, 30, 40, 50]\n",
    "print(numeros)\n",
    "\n",
    "frutas = [\"maça\", \"banana\", \"cereja\"]\n",
    "print(frutas)\n",
    "\n",
    "mista = [10, \"Olá\", 2.5, [\"a\", \"b\"], True]\n",
    "print(mista)\n",
    "\n",
    "frutas = [\"maça\", \"banana\", \"cereja\", \"damasco\"]\n",
    "print(frutas[2])\n",
    "\n",
    "frutas = [\"maça\", \"banana\", \"cereja\", \"damasco\"]\n",
    "print(frutas[-1]) # ultimo elemento\n",
    "print(frutas[-2]) # penultimo elemento\n",
    "\n"
   ]
  },
  {
   "cell_type": "markdown",
   "metadata": {},
   "source": [
    "Exercicio: Criando e Acessando Listas\n",
    "1-Crie uma lista chamada frutas contendo os seguintes itens: \"maça\", \"banana\", \"cereja\", \"damasco\", \"figo\"\n",
    "2-Imprima a primeira fruta da lisa\n",
    "3-Imprima a terceira fruta\n",
    "4-Imprima a ultima fruta da lista\n",
    "5-Tente acessar um indice que não existe da lista\n",
    "6-usando indices negaticos imprima a segunda ultima fruta da lista"
   ]
  },
  {
   "cell_type": "code",
   "execution_count": 20,
   "metadata": {},
   "outputs": [
    {
     "name": "stdout",
     "output_type": "stream",
     "text": [
      "maça\n",
      "cereja\n",
      "figo\n",
      "banana\n"
     ]
    }
   ],
   "source": [
    "frutas = [\"maça\", \"banana\", \"cereja\", \"damasco\", \"figo\"]\n",
    "print(frutas[0])\n",
    "print(frutas[2])\n",
    "print(frutas[-1])\n",
    "# print(frutas[11]) item nao existe da erro\n",
    "print(frutas[-4])\n"
   ]
  }
 ],
 "metadata": {
  "kernelspec": {
   "display_name": "base",
   "language": "python",
   "name": "python3"
  },
  "language_info": {
   "codemirror_mode": {
    "name": "ipython",
    "version": 3
   },
   "file_extension": ".py",
   "mimetype": "text/x-python",
   "name": "python",
   "nbconvert_exporter": "python",
   "pygments_lexer": "ipython3",
   "version": "3.11.5"
  }
 },
 "nbformat": 4,
 "nbformat_minor": 2
}
