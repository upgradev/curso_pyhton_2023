{
 "cells": [
  {
   "cell_type": "code",
   "execution_count": 9,
   "metadata": {},
   "outputs": [
    {
     "name": "stdout",
     "output_type": "stream",
     "text": [
      "A Arte da Guerra\n",
      "Sun Tzu\n",
      "978-8572835080\n",
      "\n",
      "('Paris', 'França', 5)\n",
      "Kyoto\n",
      "('Roma', 'Italia', 4)\n",
      "('Nova York', 'EUA', 7)\n"
     ]
    }
   ],
   "source": [
    "\"\"\"\n",
    "Definição de tuplas\n",
    "\"\"\"\n",
    "# Acessar informações\n",
    "livro = (\"A Arte da Guerra\", \"Sun Tzu\", \"978-8572835080\")\n",
    "titulo = livro[0]\n",
    "autor = livro[1]\n",
    "isbn = livro[2]\n",
    "print(titulo)\n",
    "print(autor)\n",
    "print(isbn)\n",
    "print()\n",
    "\n",
    "# livro[0] = \"teste\" não pode modificar uma tupla, ela é imutavel\n",
    "\n",
    "# criação de tuplas\n",
    "destino = (\"Paris\", \"França\", 5)\n",
    "print(destino)\n",
    "\n",
    "destino_indefinido = (\"Kyoto\")\n",
    "print(destino_indefinido)\n",
    "\n",
    "# criacao tupla sem parentese\n",
    "destino2 = \"Roma\", \"Italia\", 4\n",
    "print(destino2)\n",
    "\n",
    "# função Tuple\n",
    "lista_destino_eua = [\"Nova York\", \"EUA\", 7]\n",
    "destino3 = tuple(lista_destino_eua)\n",
    "print(destino3)"
   ]
  },
  {
   "cell_type": "markdown",
   "metadata": {},
   "source": [
    "Exercicio"
   ]
  },
  {
   "cell_type": "code",
   "execution_count": 14,
   "metadata": {},
   "outputs": [
    {
     "name": "stdout",
     "output_type": "stream",
     "text": [
      "('Orgulho e Preconceiro', 'Jane Austen', 1983)\n",
      "('O pequeno principe',)\n",
      "('1984', 'George Orwell', 1949)\n",
      "('O senhor dos anéis', 'J.R.R Tolkien', 1954)\n"
     ]
    }
   ],
   "source": [
    "livro1 = (\"Orgulho e Preconceiro\", \"Jane Austen\", 1983)\n",
    "print(livro1)\n",
    "livro_indefinido = (\"O pequeno principe\",)\n",
    "print(livro_indefinido)\n",
    "livro2 = \"1984\", \"George Orwell\", 1949\n",
    "print(livro2)\n",
    "lista_livro3 = [\"O senhor dos anéis\", \"J.R.R Tolkien\", 1954]\n",
    "livro3 = tuple(lista_livro3)\n",
    "print(livro3)\n"
   ]
  }
 ],
 "metadata": {
  "kernelspec": {
   "display_name": "base",
   "language": "python",
   "name": "python3"
  },
  "language_info": {
   "codemirror_mode": {
    "name": "ipython",
    "version": 3
   },
   "file_extension": ".py",
   "mimetype": "text/x-python",
   "name": "python",
   "nbconvert_exporter": "python",
   "pygments_lexer": "ipython3",
   "version": "3.11.5"
  }
 },
 "nbformat": 4,
 "nbformat_minor": 2
}
